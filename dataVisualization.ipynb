{
 "cells": [
  {
   "cell_type": "code",
   "execution_count": 2,
   "metadata": {},
   "outputs": [],
   "source": [
    "import json \n",
    "from pprint import pprint\n",
    "import pandas as pd\n",
    "\n",
    "\n",
    "def readdata()->pd.DataFrame:\n",
    "    with open(r'D:\\dataAna\\jobAnalysis\\allJobDetailData.json', 'r') as f:\n",
    "        data = json.load(f)\n",
    "    cleandata = []\n",
    "    for jobid in data:\n",
    "        job = data[jobid]\n",
    "        cleandata.append([job['detailedPosition']['salary60'], job['detailedPosition']['workCity'], job['detailedCompany']['companySize']])\n",
    "    return pd.DataFrame(cleandata, columns=['salary60', 'workCity', 'companySize'])\n",
    "    \n",
    "\n",
    "\n"
   ]
  },
  {
   "cell_type": "code",
   "execution_count": 3,
   "metadata": {},
   "outputs": [
    {
     "data": {
      "text/html": [
       "<div>\n",
       "<style scoped>\n",
       "    .dataframe tbody tr th:only-of-type {\n",
       "        vertical-align: middle;\n",
       "    }\n",
       "\n",
       "    .dataframe tbody tr th {\n",
       "        vertical-align: top;\n",
       "    }\n",
       "\n",
       "    .dataframe thead th {\n",
       "        text-align: right;\n",
       "    }\n",
       "</style>\n",
       "<table border=\"1\" class=\"dataframe\">\n",
       "  <thead>\n",
       "    <tr style=\"text-align: right;\">\n",
       "      <th></th>\n",
       "      <th>salary60</th>\n",
       "      <th>workCity</th>\n",
       "      <th>companySize</th>\n",
       "    </tr>\n",
       "  </thead>\n",
       "  <tbody>\n",
       "    <tr>\n",
       "      <th>0</th>\n",
       "      <td>8千-1万</td>\n",
       "      <td>北京</td>\n",
       "      <td>20-99人</td>\n",
       "    </tr>\n",
       "    <tr>\n",
       "      <th>1</th>\n",
       "      <td>2.5万-3万</td>\n",
       "      <td>北京</td>\n",
       "      <td>1000-9999人</td>\n",
       "    </tr>\n",
       "    <tr>\n",
       "      <th>2</th>\n",
       "      <td>8千-1.2万</td>\n",
       "      <td>北京</td>\n",
       "      <td>20-99人</td>\n",
       "    </tr>\n",
       "    <tr>\n",
       "      <th>3</th>\n",
       "      <td>8千-1万</td>\n",
       "      <td>北京</td>\n",
       "      <td>20-99人</td>\n",
       "    </tr>\n",
       "    <tr>\n",
       "      <th>4</th>\n",
       "      <td>1.5万-3万</td>\n",
       "      <td>北京</td>\n",
       "      <td>100-299人</td>\n",
       "    </tr>\n",
       "    <tr>\n",
       "      <th>...</th>\n",
       "      <td>...</td>\n",
       "      <td>...</td>\n",
       "      <td>...</td>\n",
       "    </tr>\n",
       "    <tr>\n",
       "      <th>405</th>\n",
       "      <td>4千-6千</td>\n",
       "      <td>哈尔滨</td>\n",
       "      <td>1000-9999人</td>\n",
       "    </tr>\n",
       "    <tr>\n",
       "      <th>406</th>\n",
       "      <td>5千-7千</td>\n",
       "      <td>哈尔滨</td>\n",
       "      <td>20-99人</td>\n",
       "    </tr>\n",
       "    <tr>\n",
       "      <th>407</th>\n",
       "      <td>4千-8千</td>\n",
       "      <td>哈尔滨</td>\n",
       "      <td>20-99人</td>\n",
       "    </tr>\n",
       "    <tr>\n",
       "      <th>408</th>\n",
       "      <td>6千-8千</td>\n",
       "      <td>哈尔滨</td>\n",
       "      <td>100-299人</td>\n",
       "    </tr>\n",
       "    <tr>\n",
       "      <th>409</th>\n",
       "      <td>8千-1.6万</td>\n",
       "      <td>哈尔滨</td>\n",
       "      <td>20-99人</td>\n",
       "    </tr>\n",
       "  </tbody>\n",
       "</table>\n",
       "<p>410 rows × 3 columns</p>\n",
       "</div>"
      ],
      "text/plain": [
       "    salary60 workCity companySize\n",
       "0      8千-1万       北京      20-99人\n",
       "1    2.5万-3万       北京  1000-9999人\n",
       "2    8千-1.2万       北京      20-99人\n",
       "3      8千-1万       北京      20-99人\n",
       "4    1.5万-3万       北京    100-299人\n",
       "..       ...      ...         ...\n",
       "405    4千-6千      哈尔滨  1000-9999人\n",
       "406    5千-7千      哈尔滨      20-99人\n",
       "407    4千-8千      哈尔滨      20-99人\n",
       "408    6千-8千      哈尔滨    100-299人\n",
       "409  8千-1.6万      哈尔滨      20-99人\n",
       "\n",
       "[410 rows x 3 columns]"
      ]
     },
     "execution_count": 3,
     "metadata": {},
     "output_type": "execute_result"
    }
   ],
   "source": [
    "data = readdata()\n",
    "data"
   ]
  },
  {
   "cell_type": "code",
   "execution_count": 22,
   "metadata": {},
   "outputs": [
    {
     "data": {
      "text/plain": [
       "0       8000.0\n",
       "1      25000.0\n",
       "2       8000.0\n",
       "3       8000.0\n",
       "4      15000.0\n",
       "        ...   \n",
       "405     4000.0\n",
       "406     5000.0\n",
       "407     4000.0\n",
       "408     6000.0\n",
       "409     8000.0\n",
       "Name: salary60, Length: 410, dtype: object"
      ]
     },
     "execution_count": 22,
     "metadata": {},
     "output_type": "execute_result"
    }
   ],
   "source": [
    "def cleansalary(row: list)->int:\n",
    "    val = row[0]\n",
    "    if val[-1] == '万':\n",
    "        num = float(val.strip('万')) * 10000\n",
    "    elif val[-1] == '千':\n",
    "        num = float(val.strip('千')) * 1000\n",
    "    else:\n",
    "        num = pd.NA\n",
    "    return num\n",
    "\n",
    "sal = data['salary60'].str.split('-').map(cleansalary)\n",
    "sal"
   ]
  },
  {
   "cell_type": "code",
   "execution_count": 24,
   "metadata": {},
   "outputs": [
    {
     "data": {
      "text/html": [
       "<div>\n",
       "<style scoped>\n",
       "    .dataframe tbody tr th:only-of-type {\n",
       "        vertical-align: middle;\n",
       "    }\n",
       "\n",
       "    .dataframe tbody tr th {\n",
       "        vertical-align: top;\n",
       "    }\n",
       "\n",
       "    .dataframe thead th {\n",
       "        text-align: right;\n",
       "    }\n",
       "</style>\n",
       "<table border=\"1\" class=\"dataframe\">\n",
       "  <thead>\n",
       "    <tr style=\"text-align: right;\">\n",
       "      <th></th>\n",
       "      <th>salary60</th>\n",
       "      <th>workCity</th>\n",
       "      <th>companySize</th>\n",
       "      <th>sal</th>\n",
       "    </tr>\n",
       "  </thead>\n",
       "  <tbody>\n",
       "    <tr>\n",
       "      <th>0</th>\n",
       "      <td>8千-1万</td>\n",
       "      <td>北京</td>\n",
       "      <td>20-99人</td>\n",
       "      <td>8000.0</td>\n",
       "    </tr>\n",
       "    <tr>\n",
       "      <th>1</th>\n",
       "      <td>2.5万-3万</td>\n",
       "      <td>北京</td>\n",
       "      <td>1000-9999人</td>\n",
       "      <td>25000.0</td>\n",
       "    </tr>\n",
       "    <tr>\n",
       "      <th>2</th>\n",
       "      <td>8千-1.2万</td>\n",
       "      <td>北京</td>\n",
       "      <td>20-99人</td>\n",
       "      <td>8000.0</td>\n",
       "    </tr>\n",
       "    <tr>\n",
       "      <th>3</th>\n",
       "      <td>8千-1万</td>\n",
       "      <td>北京</td>\n",
       "      <td>20-99人</td>\n",
       "      <td>8000.0</td>\n",
       "    </tr>\n",
       "    <tr>\n",
       "      <th>4</th>\n",
       "      <td>1.5万-3万</td>\n",
       "      <td>北京</td>\n",
       "      <td>100-299人</td>\n",
       "      <td>15000.0</td>\n",
       "    </tr>\n",
       "    <tr>\n",
       "      <th>...</th>\n",
       "      <td>...</td>\n",
       "      <td>...</td>\n",
       "      <td>...</td>\n",
       "      <td>...</td>\n",
       "    </tr>\n",
       "    <tr>\n",
       "      <th>405</th>\n",
       "      <td>4千-6千</td>\n",
       "      <td>哈尔滨</td>\n",
       "      <td>1000-9999人</td>\n",
       "      <td>4000.0</td>\n",
       "    </tr>\n",
       "    <tr>\n",
       "      <th>406</th>\n",
       "      <td>5千-7千</td>\n",
       "      <td>哈尔滨</td>\n",
       "      <td>20-99人</td>\n",
       "      <td>5000.0</td>\n",
       "    </tr>\n",
       "    <tr>\n",
       "      <th>407</th>\n",
       "      <td>4千-8千</td>\n",
       "      <td>哈尔滨</td>\n",
       "      <td>20-99人</td>\n",
       "      <td>4000.0</td>\n",
       "    </tr>\n",
       "    <tr>\n",
       "      <th>408</th>\n",
       "      <td>6千-8千</td>\n",
       "      <td>哈尔滨</td>\n",
       "      <td>100-299人</td>\n",
       "      <td>6000.0</td>\n",
       "    </tr>\n",
       "    <tr>\n",
       "      <th>409</th>\n",
       "      <td>8千-1.6万</td>\n",
       "      <td>哈尔滨</td>\n",
       "      <td>20-99人</td>\n",
       "      <td>8000.0</td>\n",
       "    </tr>\n",
       "  </tbody>\n",
       "</table>\n",
       "<p>410 rows × 4 columns</p>\n",
       "</div>"
      ],
      "text/plain": [
       "    salary60 workCity companySize      sal\n",
       "0      8千-1万       北京      20-99人   8000.0\n",
       "1    2.5万-3万       北京  1000-9999人  25000.0\n",
       "2    8千-1.2万       北京      20-99人   8000.0\n",
       "3      8千-1万       北京      20-99人   8000.0\n",
       "4    1.5万-3万       北京    100-299人  15000.0\n",
       "..       ...      ...         ...      ...\n",
       "405    4千-6千      哈尔滨  1000-9999人   4000.0\n",
       "406    5千-7千      哈尔滨      20-99人   5000.0\n",
       "407    4千-8千      哈尔滨      20-99人   4000.0\n",
       "408    6千-8千      哈尔滨    100-299人   6000.0\n",
       "409  8千-1.6万      哈尔滨      20-99人   8000.0\n",
       "\n",
       "[410 rows x 4 columns]"
      ]
     },
     "execution_count": 24,
     "metadata": {},
     "output_type": "execute_result"
    }
   ],
   "source": [
    "data['sal'] = pd.to_numeric(sal)\n",
    "data"
   ]
  },
  {
   "cell_type": "code",
   "execution_count": 25,
   "metadata": {},
   "outputs": [
    {
     "name": "stdout",
     "output_type": "stream",
     "text": [
      "Looking in indexes: https://pypi.tuna.tsinghua.edu.cn/simple\n",
      "Requirement already satisfied: plotly in d:\\program files\\python\\python38\\lib\\site-packages (5.10.0)\n",
      "Requirement already satisfied: tenacity>=6.2.0 in d:\\program files\\python\\python38\\lib\\site-packages (from plotly) (8.1.0)\n"
     ]
    },
    {
     "name": "stderr",
     "output_type": "stream",
     "text": [
      "WARNING: You are using pip version 21.1.1; however, version 22.2.2 is available.\n",
      "You should consider upgrading via the 'd:\\program files\\python\\python38\\python.exe -m pip install --upgrade pip' command.\n"
     ]
    }
   ],
   "source": [
    "!pip install plotly"
   ]
  },
  {
   "cell_type": "code",
   "execution_count": 26,
   "metadata": {},
   "outputs": [
    {
     "data": {
      "application/vnd.plotly.v1+json": {
       "config": {
        "plotlyServerURL": "https://plot.ly"
       },
       "data": [
        {
         "alignmentgroup": "True",
         "bingroup": "x",
         "hovertemplate": "sal=%{x}<br>count=%{y}<extra></extra>",
         "legendgroup": "",
         "marker": {
          "color": "#636efa",
          "pattern": {
           "shape": ""
          }
         },
         "name": "",
         "offsetgroup": "",
         "orientation": "v",
         "showlegend": false,
         "type": "histogram",
         "x": [
          8000,
          25000,
          8000,
          8000,
          15000,
          10000,
          12000,
          null,
          null,
          null,
          15000,
          13000,
          null,
          12000,
          4000,
          null,
          8000,
          8000,
          6000,
          8000,
          7000,
          7000,
          13000,
          30000,
          6000,
          8000,
          8000,
          9000,
          8000,
          8000,
          8000,
          8000,
          8000,
          7000,
          8000,
          6000,
          5000,
          4000,
          8000,
          10000,
          6000,
          16000,
          12000,
          5000,
          7000,
          10000,
          6000,
          8000,
          12000,
          7000,
          6000,
          10000,
          9000,
          8000,
          null,
          6000,
          5000,
          7000,
          15000,
          5000,
          8000,
          14000,
          14000,
          15000,
          13000,
          8000,
          10000,
          15000,
          4000,
          6000,
          4000,
          6000,
          6000,
          null,
          4000,
          10000,
          6000,
          2000,
          10000,
          8000,
          22000,
          15000,
          7000,
          4000,
          4000,
          4000,
          6000,
          15000,
          15000,
          15000,
          5000,
          10000,
          15000,
          6000,
          null,
          4000,
          4000,
          null,
          8000,
          12000,
          4000,
          3000,
          10000,
          4000,
          9000,
          10000,
          10000,
          6000,
          5000,
          7000,
          6000,
          10000,
          4000,
          6000,
          null,
          9000,
          5000,
          7000,
          null,
          null,
          4000,
          6000,
          9000,
          6000,
          5000,
          6000,
          5000,
          5000,
          9000,
          9000,
          8000,
          6000,
          4000,
          9000,
          4000,
          4000,
          15000,
          8000,
          5000,
          4000,
          7000,
          8000,
          6000,
          5000,
          8000,
          7000,
          6000,
          5000,
          5000,
          5000,
          4000,
          5000,
          4000,
          8000,
          6000,
          7000,
          6000,
          4000,
          10000,
          7000,
          3000,
          8000,
          4000,
          8000,
          9000,
          8000,
          8000,
          5000,
          null,
          4000,
          8000,
          5000,
          7000,
          16000,
          3000,
          20000,
          5000,
          7000,
          4000,
          20000,
          null,
          6000,
          8000,
          4000,
          8000,
          8000,
          5000,
          6000,
          15000,
          5000,
          4000,
          6000,
          15000,
          10000,
          5000,
          7000,
          5000,
          10000,
          15000,
          5000,
          10000,
          8000,
          9000,
          6000,
          6000,
          7000,
          5000,
          7000,
          6000,
          7000,
          6000,
          6000,
          6000,
          7000,
          6000,
          7000,
          7000,
          7000,
          6000,
          6000,
          7000,
          5000,
          6000,
          7000,
          6000,
          6000,
          6000,
          6000,
          4000,
          10000,
          5000,
          4000,
          6000,
          4000,
          5000,
          7000,
          5000,
          5000,
          5000,
          7000,
          5000,
          11000,
          9000,
          9000,
          5000,
          6000,
          null,
          6000,
          null,
          10000,
          50000,
          9000,
          9000,
          8000,
          7000,
          20000,
          12000,
          8000,
          6000,
          15000,
          10000,
          null,
          5000,
          9000,
          9000,
          15000,
          12000,
          8000,
          13000,
          6000,
          9000,
          12000,
          20000,
          8000,
          8000,
          9000,
          null,
          6000,
          10000,
          6000,
          5000,
          6000,
          5000,
          12000,
          6000,
          6000,
          6000,
          6000,
          6000,
          null,
          9000,
          6000,
          6000,
          5000,
          5000,
          5000,
          12000,
          9000,
          5000,
          8000,
          null,
          7000,
          6000,
          5000,
          10000,
          20000,
          6000,
          6000,
          8000,
          11000,
          20000,
          5000,
          null,
          5000,
          5000,
          9000,
          9000,
          9000,
          5000,
          9000,
          6000,
          7000,
          9000,
          9000,
          9000,
          9000,
          null,
          9000,
          5000,
          6000,
          6000,
          6000,
          8000,
          8000,
          3000,
          5000,
          12000,
          8000,
          5000,
          5000,
          12000,
          9000,
          9000,
          4000,
          5000,
          6000,
          6000,
          8000,
          8000,
          4000,
          7000,
          9000,
          8000,
          6000,
          8000,
          9000,
          8000,
          null,
          9000,
          6000,
          10000,
          10000,
          3000,
          9000,
          7000,
          7000,
          7000,
          8000,
          7000,
          7000,
          5000,
          8000,
          8000,
          4000,
          null,
          8000,
          7000,
          10000,
          null,
          30000,
          8000,
          7000,
          6000,
          7000,
          7000,
          6000,
          9000,
          6000,
          10000,
          6000,
          8000,
          6000,
          10000,
          4000,
          3000,
          4000,
          3000,
          4000,
          6000,
          8000,
          3000,
          5000,
          8000,
          null,
          4000,
          4000,
          5000,
          4000,
          6000,
          8000
         ],
         "xaxis": "x",
         "yaxis": "y"
        }
       ],
       "layout": {
        "barmode": "relative",
        "legend": {
         "tracegroupgap": 0
        },
        "margin": {
         "t": 60
        },
        "template": {
         "data": {
          "bar": [
           {
            "error_x": {
             "color": "#2a3f5f"
            },
            "error_y": {
             "color": "#2a3f5f"
            },
            "marker": {
             "line": {
              "color": "#E5ECF6",
              "width": 0.5
             },
             "pattern": {
              "fillmode": "overlay",
              "size": 10,
              "solidity": 0.2
             }
            },
            "type": "bar"
           }
          ],
          "barpolar": [
           {
            "marker": {
             "line": {
              "color": "#E5ECF6",
              "width": 0.5
             },
             "pattern": {
              "fillmode": "overlay",
              "size": 10,
              "solidity": 0.2
             }
            },
            "type": "barpolar"
           }
          ],
          "carpet": [
           {
            "aaxis": {
             "endlinecolor": "#2a3f5f",
             "gridcolor": "white",
             "linecolor": "white",
             "minorgridcolor": "white",
             "startlinecolor": "#2a3f5f"
            },
            "baxis": {
             "endlinecolor": "#2a3f5f",
             "gridcolor": "white",
             "linecolor": "white",
             "minorgridcolor": "white",
             "startlinecolor": "#2a3f5f"
            },
            "type": "carpet"
           }
          ],
          "choropleth": [
           {
            "colorbar": {
             "outlinewidth": 0,
             "ticks": ""
            },
            "type": "choropleth"
           }
          ],
          "contour": [
           {
            "colorbar": {
             "outlinewidth": 0,
             "ticks": ""
            },
            "colorscale": [
             [
              0,
              "#0d0887"
             ],
             [
              0.1111111111111111,
              "#46039f"
             ],
             [
              0.2222222222222222,
              "#7201a8"
             ],
             [
              0.3333333333333333,
              "#9c179e"
             ],
             [
              0.4444444444444444,
              "#bd3786"
             ],
             [
              0.5555555555555556,
              "#d8576b"
             ],
             [
              0.6666666666666666,
              "#ed7953"
             ],
             [
              0.7777777777777778,
              "#fb9f3a"
             ],
             [
              0.8888888888888888,
              "#fdca26"
             ],
             [
              1,
              "#f0f921"
             ]
            ],
            "type": "contour"
           }
          ],
          "contourcarpet": [
           {
            "colorbar": {
             "outlinewidth": 0,
             "ticks": ""
            },
            "type": "contourcarpet"
           }
          ],
          "heatmap": [
           {
            "colorbar": {
             "outlinewidth": 0,
             "ticks": ""
            },
            "colorscale": [
             [
              0,
              "#0d0887"
             ],
             [
              0.1111111111111111,
              "#46039f"
             ],
             [
              0.2222222222222222,
              "#7201a8"
             ],
             [
              0.3333333333333333,
              "#9c179e"
             ],
             [
              0.4444444444444444,
              "#bd3786"
             ],
             [
              0.5555555555555556,
              "#d8576b"
             ],
             [
              0.6666666666666666,
              "#ed7953"
             ],
             [
              0.7777777777777778,
              "#fb9f3a"
             ],
             [
              0.8888888888888888,
              "#fdca26"
             ],
             [
              1,
              "#f0f921"
             ]
            ],
            "type": "heatmap"
           }
          ],
          "heatmapgl": [
           {
            "colorbar": {
             "outlinewidth": 0,
             "ticks": ""
            },
            "colorscale": [
             [
              0,
              "#0d0887"
             ],
             [
              0.1111111111111111,
              "#46039f"
             ],
             [
              0.2222222222222222,
              "#7201a8"
             ],
             [
              0.3333333333333333,
              "#9c179e"
             ],
             [
              0.4444444444444444,
              "#bd3786"
             ],
             [
              0.5555555555555556,
              "#d8576b"
             ],
             [
              0.6666666666666666,
              "#ed7953"
             ],
             [
              0.7777777777777778,
              "#fb9f3a"
             ],
             [
              0.8888888888888888,
              "#fdca26"
             ],
             [
              1,
              "#f0f921"
             ]
            ],
            "type": "heatmapgl"
           }
          ],
          "histogram": [
           {
            "marker": {
             "pattern": {
              "fillmode": "overlay",
              "size": 10,
              "solidity": 0.2
             }
            },
            "type": "histogram"
           }
          ],
          "histogram2d": [
           {
            "colorbar": {
             "outlinewidth": 0,
             "ticks": ""
            },
            "colorscale": [
             [
              0,
              "#0d0887"
             ],
             [
              0.1111111111111111,
              "#46039f"
             ],
             [
              0.2222222222222222,
              "#7201a8"
             ],
             [
              0.3333333333333333,
              "#9c179e"
             ],
             [
              0.4444444444444444,
              "#bd3786"
             ],
             [
              0.5555555555555556,
              "#d8576b"
             ],
             [
              0.6666666666666666,
              "#ed7953"
             ],
             [
              0.7777777777777778,
              "#fb9f3a"
             ],
             [
              0.8888888888888888,
              "#fdca26"
             ],
             [
              1,
              "#f0f921"
             ]
            ],
            "type": "histogram2d"
           }
          ],
          "histogram2dcontour": [
           {
            "colorbar": {
             "outlinewidth": 0,
             "ticks": ""
            },
            "colorscale": [
             [
              0,
              "#0d0887"
             ],
             [
              0.1111111111111111,
              "#46039f"
             ],
             [
              0.2222222222222222,
              "#7201a8"
             ],
             [
              0.3333333333333333,
              "#9c179e"
             ],
             [
              0.4444444444444444,
              "#bd3786"
             ],
             [
              0.5555555555555556,
              "#d8576b"
             ],
             [
              0.6666666666666666,
              "#ed7953"
             ],
             [
              0.7777777777777778,
              "#fb9f3a"
             ],
             [
              0.8888888888888888,
              "#fdca26"
             ],
             [
              1,
              "#f0f921"
             ]
            ],
            "type": "histogram2dcontour"
           }
          ],
          "mesh3d": [
           {
            "colorbar": {
             "outlinewidth": 0,
             "ticks": ""
            },
            "type": "mesh3d"
           }
          ],
          "parcoords": [
           {
            "line": {
             "colorbar": {
              "outlinewidth": 0,
              "ticks": ""
             }
            },
            "type": "parcoords"
           }
          ],
          "pie": [
           {
            "automargin": true,
            "type": "pie"
           }
          ],
          "scatter": [
           {
            "fillpattern": {
             "fillmode": "overlay",
             "size": 10,
             "solidity": 0.2
            },
            "type": "scatter"
           }
          ],
          "scatter3d": [
           {
            "line": {
             "colorbar": {
              "outlinewidth": 0,
              "ticks": ""
             }
            },
            "marker": {
             "colorbar": {
              "outlinewidth": 0,
              "ticks": ""
             }
            },
            "type": "scatter3d"
           }
          ],
          "scattercarpet": [
           {
            "marker": {
             "colorbar": {
              "outlinewidth": 0,
              "ticks": ""
             }
            },
            "type": "scattercarpet"
           }
          ],
          "scattergeo": [
           {
            "marker": {
             "colorbar": {
              "outlinewidth": 0,
              "ticks": ""
             }
            },
            "type": "scattergeo"
           }
          ],
          "scattergl": [
           {
            "marker": {
             "colorbar": {
              "outlinewidth": 0,
              "ticks": ""
             }
            },
            "type": "scattergl"
           }
          ],
          "scattermapbox": [
           {
            "marker": {
             "colorbar": {
              "outlinewidth": 0,
              "ticks": ""
             }
            },
            "type": "scattermapbox"
           }
          ],
          "scatterpolar": [
           {
            "marker": {
             "colorbar": {
              "outlinewidth": 0,
              "ticks": ""
             }
            },
            "type": "scatterpolar"
           }
          ],
          "scatterpolargl": [
           {
            "marker": {
             "colorbar": {
              "outlinewidth": 0,
              "ticks": ""
             }
            },
            "type": "scatterpolargl"
           }
          ],
          "scatterternary": [
           {
            "marker": {
             "colorbar": {
              "outlinewidth": 0,
              "ticks": ""
             }
            },
            "type": "scatterternary"
           }
          ],
          "surface": [
           {
            "colorbar": {
             "outlinewidth": 0,
             "ticks": ""
            },
            "colorscale": [
             [
              0,
              "#0d0887"
             ],
             [
              0.1111111111111111,
              "#46039f"
             ],
             [
              0.2222222222222222,
              "#7201a8"
             ],
             [
              0.3333333333333333,
              "#9c179e"
             ],
             [
              0.4444444444444444,
              "#bd3786"
             ],
             [
              0.5555555555555556,
              "#d8576b"
             ],
             [
              0.6666666666666666,
              "#ed7953"
             ],
             [
              0.7777777777777778,
              "#fb9f3a"
             ],
             [
              0.8888888888888888,
              "#fdca26"
             ],
             [
              1,
              "#f0f921"
             ]
            ],
            "type": "surface"
           }
          ],
          "table": [
           {
            "cells": {
             "fill": {
              "color": "#EBF0F8"
             },
             "line": {
              "color": "white"
             }
            },
            "header": {
             "fill": {
              "color": "#C8D4E3"
             },
             "line": {
              "color": "white"
             }
            },
            "type": "table"
           }
          ]
         },
         "layout": {
          "annotationdefaults": {
           "arrowcolor": "#2a3f5f",
           "arrowhead": 0,
           "arrowwidth": 1
          },
          "autotypenumbers": "strict",
          "coloraxis": {
           "colorbar": {
            "outlinewidth": 0,
            "ticks": ""
           }
          },
          "colorscale": {
           "diverging": [
            [
             0,
             "#8e0152"
            ],
            [
             0.1,
             "#c51b7d"
            ],
            [
             0.2,
             "#de77ae"
            ],
            [
             0.3,
             "#f1b6da"
            ],
            [
             0.4,
             "#fde0ef"
            ],
            [
             0.5,
             "#f7f7f7"
            ],
            [
             0.6,
             "#e6f5d0"
            ],
            [
             0.7,
             "#b8e186"
            ],
            [
             0.8,
             "#7fbc41"
            ],
            [
             0.9,
             "#4d9221"
            ],
            [
             1,
             "#276419"
            ]
           ],
           "sequential": [
            [
             0,
             "#0d0887"
            ],
            [
             0.1111111111111111,
             "#46039f"
            ],
            [
             0.2222222222222222,
             "#7201a8"
            ],
            [
             0.3333333333333333,
             "#9c179e"
            ],
            [
             0.4444444444444444,
             "#bd3786"
            ],
            [
             0.5555555555555556,
             "#d8576b"
            ],
            [
             0.6666666666666666,
             "#ed7953"
            ],
            [
             0.7777777777777778,
             "#fb9f3a"
            ],
            [
             0.8888888888888888,
             "#fdca26"
            ],
            [
             1,
             "#f0f921"
            ]
           ],
           "sequentialminus": [
            [
             0,
             "#0d0887"
            ],
            [
             0.1111111111111111,
             "#46039f"
            ],
            [
             0.2222222222222222,
             "#7201a8"
            ],
            [
             0.3333333333333333,
             "#9c179e"
            ],
            [
             0.4444444444444444,
             "#bd3786"
            ],
            [
             0.5555555555555556,
             "#d8576b"
            ],
            [
             0.6666666666666666,
             "#ed7953"
            ],
            [
             0.7777777777777778,
             "#fb9f3a"
            ],
            [
             0.8888888888888888,
             "#fdca26"
            ],
            [
             1,
             "#f0f921"
            ]
           ]
          },
          "colorway": [
           "#636efa",
           "#EF553B",
           "#00cc96",
           "#ab63fa",
           "#FFA15A",
           "#19d3f3",
           "#FF6692",
           "#B6E880",
           "#FF97FF",
           "#FECB52"
          ],
          "font": {
           "color": "#2a3f5f"
          },
          "geo": {
           "bgcolor": "white",
           "lakecolor": "white",
           "landcolor": "#E5ECF6",
           "showlakes": true,
           "showland": true,
           "subunitcolor": "white"
          },
          "hoverlabel": {
           "align": "left"
          },
          "hovermode": "closest",
          "mapbox": {
           "style": "light"
          },
          "paper_bgcolor": "white",
          "plot_bgcolor": "#E5ECF6",
          "polar": {
           "angularaxis": {
            "gridcolor": "white",
            "linecolor": "white",
            "ticks": ""
           },
           "bgcolor": "#E5ECF6",
           "radialaxis": {
            "gridcolor": "white",
            "linecolor": "white",
            "ticks": ""
           }
          },
          "scene": {
           "xaxis": {
            "backgroundcolor": "#E5ECF6",
            "gridcolor": "white",
            "gridwidth": 2,
            "linecolor": "white",
            "showbackground": true,
            "ticks": "",
            "zerolinecolor": "white"
           },
           "yaxis": {
            "backgroundcolor": "#E5ECF6",
            "gridcolor": "white",
            "gridwidth": 2,
            "linecolor": "white",
            "showbackground": true,
            "ticks": "",
            "zerolinecolor": "white"
           },
           "zaxis": {
            "backgroundcolor": "#E5ECF6",
            "gridcolor": "white",
            "gridwidth": 2,
            "linecolor": "white",
            "showbackground": true,
            "ticks": "",
            "zerolinecolor": "white"
           }
          },
          "shapedefaults": {
           "line": {
            "color": "#2a3f5f"
           }
          },
          "ternary": {
           "aaxis": {
            "gridcolor": "white",
            "linecolor": "white",
            "ticks": ""
           },
           "baxis": {
            "gridcolor": "white",
            "linecolor": "white",
            "ticks": ""
           },
           "bgcolor": "#E5ECF6",
           "caxis": {
            "gridcolor": "white",
            "linecolor": "white",
            "ticks": ""
           }
          },
          "title": {
           "x": 0.05
          },
          "xaxis": {
           "automargin": true,
           "gridcolor": "white",
           "linecolor": "white",
           "ticks": "",
           "title": {
            "standoff": 15
           },
           "zerolinecolor": "white",
           "zerolinewidth": 2
          },
          "yaxis": {
           "automargin": true,
           "gridcolor": "white",
           "linecolor": "white",
           "ticks": "",
           "title": {
            "standoff": 15
           },
           "zerolinecolor": "white",
           "zerolinewidth": 2
          }
         }
        },
        "xaxis": {
         "anchor": "y",
         "domain": [
          0,
          1
         ],
         "title": {
          "text": "sal"
         }
        },
        "yaxis": {
         "anchor": "x",
         "domain": [
          0,
          1
         ],
         "title": {
          "text": "count"
         }
        }
       }
      }
     },
     "metadata": {},
     "output_type": "display_data"
    }
   ],
   "source": [
    "import plotly.express as ep  \n",
    "\n",
    "ep.histogram(data, x='sal', )"
   ]
  },
  {
   "cell_type": "code",
   "execution_count": 29,
   "metadata": {},
   "outputs": [
    {
     "data": {
      "application/vnd.plotly.v1+json": {
       "config": {
        "plotlyServerURL": "https://plot.ly"
       },
       "data": [
        {
         "alignmentgroup": "True",
         "bingroup": "x",
         "hovertemplate": "workCity=北京<br>sal=%{x}<br>count=%{y}<extra></extra>",
         "legendgroup": "北京",
         "marker": {
          "color": "#636efa",
          "pattern": {
           "shape": ""
          }
         },
         "name": "北京",
         "offsetgroup": "北京",
         "orientation": "v",
         "showlegend": true,
         "type": "histogram",
         "x": [
          8000,
          25000,
          8000,
          8000,
          15000,
          10000,
          12000,
          null,
          null,
          null,
          15000,
          13000,
          null,
          12000,
          4000
         ],
         "xaxis": "x",
         "yaxis": "y"
        },
        {
         "alignmentgroup": "True",
         "boxpoints": "all",
         "fillcolor": "rgba(255,255,255,0)",
         "hoveron": "points",
         "hovertemplate": "workCity=北京<br>sal=%{x}<extra></extra>",
         "jitter": 0,
         "legendgroup": "北京",
         "line": {
          "color": "rgba(255,255,255,0)"
         },
         "marker": {
          "color": "#636efa",
          "symbol": "line-ns-open"
         },
         "name": "北京",
         "offsetgroup": "北京",
         "showlegend": false,
         "type": "box",
         "x": [
          8000,
          25000,
          8000,
          8000,
          15000,
          10000,
          12000,
          null,
          null,
          null,
          15000,
          13000,
          null,
          12000,
          4000
         ],
         "xaxis": "x2",
         "yaxis": "y2"
        },
        {
         "alignmentgroup": "True",
         "bingroup": "x",
         "hovertemplate": "workCity=上海<br>sal=%{x}<br>count=%{y}<extra></extra>",
         "legendgroup": "上海",
         "marker": {
          "color": "#EF553B",
          "pattern": {
           "shape": ""
          }
         },
         "name": "上海",
         "offsetgroup": "上海",
         "orientation": "v",
         "showlegend": true,
         "type": "histogram",
         "x": [
          null,
          8000,
          8000,
          6000,
          8000,
          7000,
          7000,
          13000,
          30000,
          6000,
          8000,
          8000,
          9000,
          8000,
          8000,
          8000,
          8000
         ],
         "xaxis": "x",
         "yaxis": "y"
        },
        {
         "alignmentgroup": "True",
         "boxpoints": "all",
         "fillcolor": "rgba(255,255,255,0)",
         "hoveron": "points",
         "hovertemplate": "workCity=上海<br>sal=%{x}<extra></extra>",
         "jitter": 0,
         "legendgroup": "上海",
         "line": {
          "color": "rgba(255,255,255,0)"
         },
         "marker": {
          "color": "#EF553B",
          "symbol": "line-ns-open"
         },
         "name": "上海",
         "offsetgroup": "上海",
         "showlegend": false,
         "type": "box",
         "x": [
          null,
          8000,
          8000,
          6000,
          8000,
          7000,
          7000,
          13000,
          30000,
          6000,
          8000,
          8000,
          9000,
          8000,
          8000,
          8000,
          8000
         ],
         "xaxis": "x2",
         "yaxis": "y2"
        },
        {
         "alignmentgroup": "True",
         "bingroup": "x",
         "hovertemplate": "workCity=广州<br>sal=%{x}<br>count=%{y}<extra></extra>",
         "legendgroup": "广州",
         "marker": {
          "color": "#00cc96",
          "pattern": {
           "shape": ""
          }
         },
         "name": "广州",
         "offsetgroup": "广州",
         "orientation": "v",
         "showlegend": true,
         "type": "histogram",
         "x": [
          8000,
          7000,
          8000,
          6000,
          5000,
          4000,
          8000,
          10000,
          6000,
          16000,
          12000,
          5000,
          7000,
          10000,
          6000,
          8000,
          12000
         ],
         "xaxis": "x",
         "yaxis": "y"
        },
        {
         "alignmentgroup": "True",
         "boxpoints": "all",
         "fillcolor": "rgba(255,255,255,0)",
         "hoveron": "points",
         "hovertemplate": "workCity=广州<br>sal=%{x}<extra></extra>",
         "jitter": 0,
         "legendgroup": "广州",
         "line": {
          "color": "rgba(255,255,255,0)"
         },
         "marker": {
          "color": "#00cc96",
          "symbol": "line-ns-open"
         },
         "name": "广州",
         "offsetgroup": "广州",
         "showlegend": false,
         "type": "box",
         "x": [
          8000,
          7000,
          8000,
          6000,
          5000,
          4000,
          8000,
          10000,
          6000,
          16000,
          12000,
          5000,
          7000,
          10000,
          6000,
          8000,
          12000
         ],
         "xaxis": "x2",
         "yaxis": "y2"
        },
        {
         "alignmentgroup": "True",
         "bingroup": "x",
         "hovertemplate": "workCity=深圳<br>sal=%{x}<br>count=%{y}<extra></extra>",
         "legendgroup": "深圳",
         "marker": {
          "color": "#ab63fa",
          "pattern": {
           "shape": ""
          }
         },
         "name": "深圳",
         "offsetgroup": "深圳",
         "orientation": "v",
         "showlegend": true,
         "type": "histogram",
         "x": [
          7000,
          6000,
          10000,
          9000,
          8000,
          null,
          6000,
          5000,
          7000,
          15000,
          5000,
          8000,
          14000,
          14000,
          15000,
          13000
         ],
         "xaxis": "x",
         "yaxis": "y"
        },
        {
         "alignmentgroup": "True",
         "boxpoints": "all",
         "fillcolor": "rgba(255,255,255,0)",
         "hoveron": "points",
         "hovertemplate": "workCity=深圳<br>sal=%{x}<extra></extra>",
         "jitter": 0,
         "legendgroup": "深圳",
         "line": {
          "color": "rgba(255,255,255,0)"
         },
         "marker": {
          "color": "#ab63fa",
          "symbol": "line-ns-open"
         },
         "name": "深圳",
         "offsetgroup": "深圳",
         "showlegend": false,
         "type": "box",
         "x": [
          7000,
          6000,
          10000,
          9000,
          8000,
          null,
          6000,
          5000,
          7000,
          15000,
          5000,
          8000,
          14000,
          14000,
          15000,
          13000
         ],
         "xaxis": "x2",
         "yaxis": "y2"
        },
        {
         "alignmentgroup": "True",
         "bingroup": "x",
         "hovertemplate": "workCity=天津<br>sal=%{x}<br>count=%{y}<extra></extra>",
         "legendgroup": "天津",
         "marker": {
          "color": "#FFA15A",
          "pattern": {
           "shape": ""
          }
         },
         "name": "天津",
         "offsetgroup": "天津",
         "orientation": "v",
         "showlegend": true,
         "type": "histogram",
         "x": [
          8000,
          10000,
          15000,
          4000,
          6000,
          4000,
          6000,
          6000,
          null,
          4000,
          10000,
          6000,
          2000,
          10000,
          8000,
          22000
         ],
         "xaxis": "x",
         "yaxis": "y"
        },
        {
         "alignmentgroup": "True",
         "boxpoints": "all",
         "fillcolor": "rgba(255,255,255,0)",
         "hoveron": "points",
         "hovertemplate": "workCity=天津<br>sal=%{x}<extra></extra>",
         "jitter": 0,
         "legendgroup": "天津",
         "line": {
          "color": "rgba(255,255,255,0)"
         },
         "marker": {
          "color": "#FFA15A",
          "symbol": "line-ns-open"
         },
         "name": "天津",
         "offsetgroup": "天津",
         "showlegend": false,
         "type": "box",
         "x": [
          8000,
          10000,
          15000,
          4000,
          6000,
          4000,
          6000,
          6000,
          null,
          4000,
          10000,
          6000,
          2000,
          10000,
          8000,
          22000
         ],
         "xaxis": "x2",
         "yaxis": "y2"
        },
        {
         "alignmentgroup": "True",
         "bingroup": "x",
         "hovertemplate": "workCity=武汉<br>sal=%{x}<br>count=%{y}<extra></extra>",
         "legendgroup": "武汉",
         "marker": {
          "color": "#19d3f3",
          "pattern": {
           "shape": ""
          }
         },
         "name": "武汉",
         "offsetgroup": "武汉",
         "orientation": "v",
         "showlegend": true,
         "type": "histogram",
         "x": [
          15000,
          7000,
          4000,
          4000,
          4000,
          6000,
          15000,
          15000,
          15000,
          5000,
          10000,
          15000,
          6000,
          null,
          4000,
          4000,
          null,
          8000,
          12000
         ],
         "xaxis": "x",
         "yaxis": "y"
        },
        {
         "alignmentgroup": "True",
         "boxpoints": "all",
         "fillcolor": "rgba(255,255,255,0)",
         "hoveron": "points",
         "hovertemplate": "workCity=武汉<br>sal=%{x}<extra></extra>",
         "jitter": 0,
         "legendgroup": "武汉",
         "line": {
          "color": "rgba(255,255,255,0)"
         },
         "marker": {
          "color": "#19d3f3",
          "symbol": "line-ns-open"
         },
         "name": "武汉",
         "offsetgroup": "武汉",
         "showlegend": false,
         "type": "box",
         "x": [
          15000,
          7000,
          4000,
          4000,
          4000,
          6000,
          15000,
          15000,
          15000,
          5000,
          10000,
          15000,
          6000,
          null,
          4000,
          4000,
          null,
          8000,
          12000
         ],
         "xaxis": "x2",
         "yaxis": "y2"
        },
        {
         "alignmentgroup": "True",
         "bingroup": "x",
         "hovertemplate": "workCity=西安<br>sal=%{x}<br>count=%{y}<extra></extra>",
         "legendgroup": "西安",
         "marker": {
          "color": "#FF6692",
          "pattern": {
           "shape": ""
          }
         },
         "name": "西安",
         "offsetgroup": "西安",
         "orientation": "v",
         "showlegend": true,
         "type": "histogram",
         "x": [
          4000,
          3000,
          10000,
          4000,
          9000,
          10000,
          10000,
          6000,
          5000,
          7000,
          6000,
          10000,
          4000,
          6000,
          null,
          9000,
          5000,
          7000
         ],
         "xaxis": "x",
         "yaxis": "y"
        },
        {
         "alignmentgroup": "True",
         "boxpoints": "all",
         "fillcolor": "rgba(255,255,255,0)",
         "hoveron": "points",
         "hovertemplate": "workCity=西安<br>sal=%{x}<extra></extra>",
         "jitter": 0,
         "legendgroup": "西安",
         "line": {
          "color": "rgba(255,255,255,0)"
         },
         "marker": {
          "color": "#FF6692",
          "symbol": "line-ns-open"
         },
         "name": "西安",
         "offsetgroup": "西安",
         "showlegend": false,
         "type": "box",
         "x": [
          4000,
          3000,
          10000,
          4000,
          9000,
          10000,
          10000,
          6000,
          5000,
          7000,
          6000,
          10000,
          4000,
          6000,
          null,
          9000,
          5000,
          7000
         ],
         "xaxis": "x2",
         "yaxis": "y2"
        },
        {
         "alignmentgroup": "True",
         "bingroup": "x",
         "hovertemplate": "workCity=成都<br>sal=%{x}<br>count=%{y}<extra></extra>",
         "legendgroup": "成都",
         "marker": {
          "color": "#B6E880",
          "pattern": {
           "shape": ""
          }
         },
         "name": "成都",
         "offsetgroup": "成都",
         "orientation": "v",
         "showlegend": true,
         "type": "histogram",
         "x": [
          null,
          null,
          4000,
          6000,
          9000,
          6000,
          5000,
          6000,
          5000,
          5000,
          9000,
          9000,
          8000,
          6000,
          4000,
          9000
         ],
         "xaxis": "x",
         "yaxis": "y"
        },
        {
         "alignmentgroup": "True",
         "boxpoints": "all",
         "fillcolor": "rgba(255,255,255,0)",
         "hoveron": "points",
         "hovertemplate": "workCity=成都<br>sal=%{x}<extra></extra>",
         "jitter": 0,
         "legendgroup": "成都",
         "line": {
          "color": "rgba(255,255,255,0)"
         },
         "marker": {
          "color": "#B6E880",
          "symbol": "line-ns-open"
         },
         "name": "成都",
         "offsetgroup": "成都",
         "showlegend": false,
         "type": "box",
         "x": [
          null,
          null,
          4000,
          6000,
          9000,
          6000,
          5000,
          6000,
          5000,
          5000,
          9000,
          9000,
          8000,
          6000,
          4000,
          9000
         ],
         "xaxis": "x2",
         "yaxis": "y2"
        },
        {
         "alignmentgroup": "True",
         "bingroup": "x",
         "hovertemplate": "workCity=大连<br>sal=%{x}<br>count=%{y}<extra></extra>",
         "legendgroup": "大连",
         "marker": {
          "color": "#FF97FF",
          "pattern": {
           "shape": ""
          }
         },
         "name": "大连",
         "offsetgroup": "大连",
         "orientation": "v",
         "showlegend": true,
         "type": "histogram",
         "x": [
          4000,
          4000,
          15000,
          8000,
          5000,
          4000,
          7000,
          8000,
          6000,
          5000,
          8000,
          7000,
          6000,
          5000,
          5000,
          5000,
          4000
         ],
         "xaxis": "x",
         "yaxis": "y"
        },
        {
         "alignmentgroup": "True",
         "boxpoints": "all",
         "fillcolor": "rgba(255,255,255,0)",
         "hoveron": "points",
         "hovertemplate": "workCity=大连<br>sal=%{x}<extra></extra>",
         "jitter": 0,
         "legendgroup": "大连",
         "line": {
          "color": "rgba(255,255,255,0)"
         },
         "marker": {
          "color": "#FF97FF",
          "symbol": "line-ns-open"
         },
         "name": "大连",
         "offsetgroup": "大连",
         "showlegend": false,
         "type": "box",
         "x": [
          4000,
          4000,
          15000,
          8000,
          5000,
          4000,
          7000,
          8000,
          6000,
          5000,
          8000,
          7000,
          6000,
          5000,
          5000,
          5000,
          4000
         ],
         "xaxis": "x2",
         "yaxis": "y2"
        },
        {
         "alignmentgroup": "True",
         "bingroup": "x",
         "hovertemplate": "workCity=长春<br>sal=%{x}<br>count=%{y}<extra></extra>",
         "legendgroup": "长春",
         "marker": {
          "color": "#FECB52",
          "pattern": {
           "shape": ""
          }
         },
         "name": "长春",
         "offsetgroup": "长春",
         "orientation": "v",
         "showlegend": true,
         "type": "histogram",
         "x": [
          5000,
          4000,
          8000,
          6000,
          7000,
          6000,
          4000,
          10000,
          7000,
          3000,
          8000,
          4000,
          8000,
          9000,
          8000,
          8000
         ],
         "xaxis": "x",
         "yaxis": "y"
        },
        {
         "alignmentgroup": "True",
         "boxpoints": "all",
         "fillcolor": "rgba(255,255,255,0)",
         "hoveron": "points",
         "hovertemplate": "workCity=长春<br>sal=%{x}<extra></extra>",
         "jitter": 0,
         "legendgroup": "长春",
         "line": {
          "color": "rgba(255,255,255,0)"
         },
         "marker": {
          "color": "#FECB52",
          "symbol": "line-ns-open"
         },
         "name": "长春",
         "offsetgroup": "长春",
         "showlegend": false,
         "type": "box",
         "x": [
          5000,
          4000,
          8000,
          6000,
          7000,
          6000,
          4000,
          10000,
          7000,
          3000,
          8000,
          4000,
          8000,
          9000,
          8000,
          8000
         ],
         "xaxis": "x2",
         "yaxis": "y2"
        },
        {
         "alignmentgroup": "True",
         "bingroup": "x",
         "hovertemplate": "workCity=沈阳<br>sal=%{x}<br>count=%{y}<extra></extra>",
         "legendgroup": "沈阳",
         "marker": {
          "color": "#636efa",
          "pattern": {
           "shape": ""
          }
         },
         "name": "沈阳",
         "offsetgroup": "沈阳",
         "orientation": "v",
         "showlegend": true,
         "type": "histogram",
         "x": [
          5000,
          null,
          4000,
          8000,
          5000,
          7000,
          16000,
          3000,
          20000,
          5000,
          7000,
          4000,
          20000,
          null,
          6000,
          8000,
          4000,
          8000
         ],
         "xaxis": "x",
         "yaxis": "y"
        },
        {
         "alignmentgroup": "True",
         "boxpoints": "all",
         "fillcolor": "rgba(255,255,255,0)",
         "hoveron": "points",
         "hovertemplate": "workCity=沈阳<br>sal=%{x}<extra></extra>",
         "jitter": 0,
         "legendgroup": "沈阳",
         "line": {
          "color": "rgba(255,255,255,0)"
         },
         "marker": {
          "color": "#636efa",
          "symbol": "line-ns-open"
         },
         "name": "沈阳",
         "offsetgroup": "沈阳",
         "showlegend": false,
         "type": "box",
         "x": [
          5000,
          null,
          4000,
          8000,
          5000,
          7000,
          16000,
          3000,
          20000,
          5000,
          7000,
          4000,
          20000,
          null,
          6000,
          8000,
          4000,
          8000
         ],
         "xaxis": "x2",
         "yaxis": "y2"
        },
        {
         "alignmentgroup": "True",
         "bingroup": "x",
         "hovertemplate": "workCity=南京<br>sal=%{x}<br>count=%{y}<extra></extra>",
         "legendgroup": "南京",
         "marker": {
          "color": "#EF553B",
          "pattern": {
           "shape": ""
          }
         },
         "name": "南京",
         "offsetgroup": "南京",
         "orientation": "v",
         "showlegend": true,
         "type": "histogram",
         "x": [
          8000,
          5000,
          6000,
          15000,
          5000,
          4000,
          6000,
          15000,
          10000,
          5000,
          7000,
          5000,
          10000,
          15000,
          5000,
          10000,
          8000,
          9000
         ],
         "xaxis": "x",
         "yaxis": "y"
        },
        {
         "alignmentgroup": "True",
         "boxpoints": "all",
         "fillcolor": "rgba(255,255,255,0)",
         "hoveron": "points",
         "hovertemplate": "workCity=南京<br>sal=%{x}<extra></extra>",
         "jitter": 0,
         "legendgroup": "南京",
         "line": {
          "color": "rgba(255,255,255,0)"
         },
         "marker": {
          "color": "#EF553B",
          "symbol": "line-ns-open"
         },
         "name": "南京",
         "offsetgroup": "南京",
         "showlegend": false,
         "type": "box",
         "x": [
          8000,
          5000,
          6000,
          15000,
          5000,
          4000,
          6000,
          15000,
          10000,
          5000,
          7000,
          5000,
          10000,
          15000,
          5000,
          10000,
          8000,
          9000
         ],
         "xaxis": "x2",
         "yaxis": "y2"
        },
        {
         "alignmentgroup": "True",
         "bingroup": "x",
         "hovertemplate": "workCity=济南<br>sal=%{x}<br>count=%{y}<extra></extra>",
         "legendgroup": "济南",
         "marker": {
          "color": "#00cc96",
          "pattern": {
           "shape": ""
          }
         },
         "name": "济南",
         "offsetgroup": "济南",
         "orientation": "v",
         "showlegend": true,
         "type": "histogram",
         "x": [
          6000,
          6000,
          7000,
          5000,
          7000,
          6000,
          7000,
          6000,
          6000,
          6000,
          7000,
          6000,
          7000,
          7000,
          7000,
          6000,
          6000,
          7000,
          5000,
          6000
         ],
         "xaxis": "x",
         "yaxis": "y"
        },
        {
         "alignmentgroup": "True",
         "boxpoints": "all",
         "fillcolor": "rgba(255,255,255,0)",
         "hoveron": "points",
         "hovertemplate": "workCity=济南<br>sal=%{x}<extra></extra>",
         "jitter": 0,
         "legendgroup": "济南",
         "line": {
          "color": "rgba(255,255,255,0)"
         },
         "marker": {
          "color": "#00cc96",
          "symbol": "line-ns-open"
         },
         "name": "济南",
         "offsetgroup": "济南",
         "showlegend": false,
         "type": "box",
         "x": [
          6000,
          6000,
          7000,
          5000,
          7000,
          6000,
          7000,
          6000,
          6000,
          6000,
          7000,
          6000,
          7000,
          7000,
          7000,
          6000,
          6000,
          7000,
          5000,
          6000
         ],
         "xaxis": "x2",
         "yaxis": "y2"
        },
        {
         "alignmentgroup": "True",
         "bingroup": "x",
         "hovertemplate": "workCity=青岛<br>sal=%{x}<br>count=%{y}<extra></extra>",
         "legendgroup": "青岛",
         "marker": {
          "color": "#ab63fa",
          "pattern": {
           "shape": ""
          }
         },
         "name": "青岛",
         "offsetgroup": "青岛",
         "orientation": "v",
         "showlegend": true,
         "type": "histogram",
         "x": [
          7000,
          6000,
          6000,
          6000,
          6000,
          4000,
          10000,
          5000,
          4000,
          6000,
          4000,
          5000,
          7000,
          5000,
          5000,
          5000,
          7000
         ],
         "xaxis": "x",
         "yaxis": "y"
        },
        {
         "alignmentgroup": "True",
         "boxpoints": "all",
         "fillcolor": "rgba(255,255,255,0)",
         "hoveron": "points",
         "hovertemplate": "workCity=青岛<br>sal=%{x}<extra></extra>",
         "jitter": 0,
         "legendgroup": "青岛",
         "line": {
          "color": "rgba(255,255,255,0)"
         },
         "marker": {
          "color": "#ab63fa",
          "symbol": "line-ns-open"
         },
         "name": "青岛",
         "offsetgroup": "青岛",
         "showlegend": false,
         "type": "box",
         "x": [
          7000,
          6000,
          6000,
          6000,
          6000,
          4000,
          10000,
          5000,
          4000,
          6000,
          4000,
          5000,
          7000,
          5000,
          5000,
          5000,
          7000
         ],
         "xaxis": "x2",
         "yaxis": "y2"
        },
        {
         "alignmentgroup": "True",
         "bingroup": "x",
         "hovertemplate": "workCity=杭州<br>sal=%{x}<br>count=%{y}<extra></extra>",
         "legendgroup": "杭州",
         "marker": {
          "color": "#FFA15A",
          "pattern": {
           "shape": ""
          }
         },
         "name": "杭州",
         "offsetgroup": "杭州",
         "orientation": "v",
         "showlegend": true,
         "type": "histogram",
         "x": [
          5000,
          11000,
          9000,
          9000,
          5000,
          6000,
          null,
          6000,
          null,
          10000,
          50000,
          9000,
          9000,
          8000,
          7000,
          20000,
          12000,
          8000
         ],
         "xaxis": "x",
         "yaxis": "y"
        },
        {
         "alignmentgroup": "True",
         "boxpoints": "all",
         "fillcolor": "rgba(255,255,255,0)",
         "hoveron": "points",
         "hovertemplate": "workCity=杭州<br>sal=%{x}<extra></extra>",
         "jitter": 0,
         "legendgroup": "杭州",
         "line": {
          "color": "rgba(255,255,255,0)"
         },
         "marker": {
          "color": "#FFA15A",
          "symbol": "line-ns-open"
         },
         "name": "杭州",
         "offsetgroup": "杭州",
         "showlegend": false,
         "type": "box",
         "x": [
          5000,
          11000,
          9000,
          9000,
          5000,
          6000,
          null,
          6000,
          null,
          10000,
          50000,
          9000,
          9000,
          8000,
          7000,
          20000,
          12000,
          8000
         ],
         "xaxis": "x2",
         "yaxis": "y2"
        },
        {
         "alignmentgroup": "True",
         "bingroup": "x",
         "hovertemplate": "workCity=苏州<br>sal=%{x}<br>count=%{y}<extra></extra>",
         "legendgroup": "苏州",
         "marker": {
          "color": "#19d3f3",
          "pattern": {
           "shape": ""
          }
         },
         "name": "苏州",
         "offsetgroup": "苏州",
         "orientation": "v",
         "showlegend": true,
         "type": "histogram",
         "x": [
          6000,
          15000,
          10000,
          null,
          5000,
          9000,
          9000,
          15000,
          12000,
          8000,
          13000,
          6000,
          9000,
          12000,
          20000,
          8000,
          8000,
          9000,
          null
         ],
         "xaxis": "x",
         "yaxis": "y"
        },
        {
         "alignmentgroup": "True",
         "boxpoints": "all",
         "fillcolor": "rgba(255,255,255,0)",
         "hoveron": "points",
         "hovertemplate": "workCity=苏州<br>sal=%{x}<extra></extra>",
         "jitter": 0,
         "legendgroup": "苏州",
         "line": {
          "color": "rgba(255,255,255,0)"
         },
         "marker": {
          "color": "#19d3f3",
          "symbol": "line-ns-open"
         },
         "name": "苏州",
         "offsetgroup": "苏州",
         "showlegend": false,
         "type": "box",
         "x": [
          6000,
          15000,
          10000,
          null,
          5000,
          9000,
          9000,
          15000,
          12000,
          8000,
          13000,
          6000,
          9000,
          12000,
          20000,
          8000,
          8000,
          9000,
          null
         ],
         "xaxis": "x2",
         "yaxis": "y2"
        },
        {
         "alignmentgroup": "True",
         "bingroup": "x",
         "hovertemplate": "workCity=无锡<br>sal=%{x}<br>count=%{y}<extra></extra>",
         "legendgroup": "无锡",
         "marker": {
          "color": "#FF6692",
          "pattern": {
           "shape": ""
          }
         },
         "name": "无锡",
         "offsetgroup": "无锡",
         "orientation": "v",
         "showlegend": true,
         "type": "histogram",
         "x": [
          6000,
          10000,
          6000,
          5000,
          6000,
          5000,
          12000,
          6000,
          6000,
          6000,
          6000,
          6000,
          null,
          9000,
          6000,
          6000,
          5000,
          5000
         ],
         "xaxis": "x",
         "yaxis": "y"
        },
        {
         "alignmentgroup": "True",
         "boxpoints": "all",
         "fillcolor": "rgba(255,255,255,0)",
         "hoveron": "points",
         "hovertemplate": "workCity=无锡<br>sal=%{x}<extra></extra>",
         "jitter": 0,
         "legendgroup": "无锡",
         "line": {
          "color": "rgba(255,255,255,0)"
         },
         "marker": {
          "color": "#FF6692",
          "symbol": "line-ns-open"
         },
         "name": "无锡",
         "offsetgroup": "无锡",
         "showlegend": false,
         "type": "box",
         "x": [
          6000,
          10000,
          6000,
          5000,
          6000,
          5000,
          12000,
          6000,
          6000,
          6000,
          6000,
          6000,
          null,
          9000,
          6000,
          6000,
          5000,
          5000
         ],
         "xaxis": "x2",
         "yaxis": "y2"
        },
        {
         "alignmentgroup": "True",
         "bingroup": "x",
         "hovertemplate": "workCity=宁波<br>sal=%{x}<br>count=%{y}<extra></extra>",
         "legendgroup": "宁波",
         "marker": {
          "color": "#B6E880",
          "pattern": {
           "shape": ""
          }
         },
         "name": "宁波",
         "offsetgroup": "宁波",
         "orientation": "v",
         "showlegend": true,
         "type": "histogram",
         "x": [
          5000,
          12000,
          9000,
          5000,
          8000,
          null,
          7000,
          6000,
          5000,
          10000,
          20000,
          6000,
          6000,
          8000,
          11000,
          20000,
          5000,
          null
         ],
         "xaxis": "x",
         "yaxis": "y"
        },
        {
         "alignmentgroup": "True",
         "boxpoints": "all",
         "fillcolor": "rgba(255,255,255,0)",
         "hoveron": "points",
         "hovertemplate": "workCity=宁波<br>sal=%{x}<extra></extra>",
         "jitter": 0,
         "legendgroup": "宁波",
         "line": {
          "color": "rgba(255,255,255,0)"
         },
         "marker": {
          "color": "#B6E880",
          "symbol": "line-ns-open"
         },
         "name": "宁波",
         "offsetgroup": "宁波",
         "showlegend": false,
         "type": "box",
         "x": [
          5000,
          12000,
          9000,
          5000,
          8000,
          null,
          7000,
          6000,
          5000,
          10000,
          20000,
          6000,
          6000,
          8000,
          11000,
          20000,
          5000,
          null
         ],
         "xaxis": "x2",
         "yaxis": "y2"
        },
        {
         "alignmentgroup": "True",
         "bingroup": "x",
         "hovertemplate": "workCity=重庆<br>sal=%{x}<br>count=%{y}<extra></extra>",
         "legendgroup": "重庆",
         "marker": {
          "color": "#FF97FF",
          "pattern": {
           "shape": ""
          }
         },
         "name": "重庆",
         "offsetgroup": "重庆",
         "orientation": "v",
         "showlegend": true,
         "type": "histogram",
         "x": [
          5000,
          5000,
          9000,
          9000,
          9000,
          5000,
          9000,
          6000,
          7000,
          9000,
          9000,
          9000,
          9000,
          null,
          9000,
          5000
         ],
         "xaxis": "x",
         "yaxis": "y"
        },
        {
         "alignmentgroup": "True",
         "boxpoints": "all",
         "fillcolor": "rgba(255,255,255,0)",
         "hoveron": "points",
         "hovertemplate": "workCity=重庆<br>sal=%{x}<extra></extra>",
         "jitter": 0,
         "legendgroup": "重庆",
         "line": {
          "color": "rgba(255,255,255,0)"
         },
         "marker": {
          "color": "#FF97FF",
          "symbol": "line-ns-open"
         },
         "name": "重庆",
         "offsetgroup": "重庆",
         "showlegend": false,
         "type": "box",
         "x": [
          5000,
          5000,
          9000,
          9000,
          9000,
          5000,
          9000,
          6000,
          7000,
          9000,
          9000,
          9000,
          9000,
          null,
          9000,
          5000
         ],
         "xaxis": "x2",
         "yaxis": "y2"
        },
        {
         "alignmentgroup": "True",
         "bingroup": "x",
         "hovertemplate": "workCity=郑州<br>sal=%{x}<br>count=%{y}<extra></extra>",
         "legendgroup": "郑州",
         "marker": {
          "color": "#FECB52",
          "pattern": {
           "shape": ""
          }
         },
         "name": "郑州",
         "offsetgroup": "郑州",
         "orientation": "v",
         "showlegend": true,
         "type": "histogram",
         "x": [
          6000,
          6000,
          6000,
          8000,
          8000,
          3000,
          5000,
          12000,
          8000,
          5000,
          5000,
          12000,
          9000,
          9000,
          4000
         ],
         "xaxis": "x",
         "yaxis": "y"
        },
        {
         "alignmentgroup": "True",
         "boxpoints": "all",
         "fillcolor": "rgba(255,255,255,0)",
         "hoveron": "points",
         "hovertemplate": "workCity=郑州<br>sal=%{x}<extra></extra>",
         "jitter": 0,
         "legendgroup": "郑州",
         "line": {
          "color": "rgba(255,255,255,0)"
         },
         "marker": {
          "color": "#FECB52",
          "symbol": "line-ns-open"
         },
         "name": "郑州",
         "offsetgroup": "郑州",
         "showlegend": false,
         "type": "box",
         "x": [
          6000,
          6000,
          6000,
          8000,
          8000,
          3000,
          5000,
          12000,
          8000,
          5000,
          5000,
          12000,
          9000,
          9000,
          4000
         ],
         "xaxis": "x2",
         "yaxis": "y2"
        },
        {
         "alignmentgroup": "True",
         "bingroup": "x",
         "hovertemplate": "workCity=长沙<br>sal=%{x}<br>count=%{y}<extra></extra>",
         "legendgroup": "长沙",
         "marker": {
          "color": "#636efa",
          "pattern": {
           "shape": ""
          }
         },
         "name": "长沙",
         "offsetgroup": "长沙",
         "orientation": "v",
         "showlegend": true,
         "type": "histogram",
         "x": [
          5000,
          6000,
          6000,
          8000,
          8000,
          4000,
          7000,
          9000,
          8000,
          6000,
          8000,
          9000,
          8000,
          null,
          9000,
          6000,
          10000,
          10000,
          3000,
          9000
         ],
         "xaxis": "x",
         "yaxis": "y"
        },
        {
         "alignmentgroup": "True",
         "boxpoints": "all",
         "fillcolor": "rgba(255,255,255,0)",
         "hoveron": "points",
         "hovertemplate": "workCity=长沙<br>sal=%{x}<extra></extra>",
         "jitter": 0,
         "legendgroup": "长沙",
         "line": {
          "color": "rgba(255,255,255,0)"
         },
         "marker": {
          "color": "#636efa",
          "symbol": "line-ns-open"
         },
         "name": "长沙",
         "offsetgroup": "长沙",
         "showlegend": false,
         "type": "box",
         "x": [
          5000,
          6000,
          6000,
          8000,
          8000,
          4000,
          7000,
          9000,
          8000,
          6000,
          8000,
          9000,
          8000,
          null,
          9000,
          6000,
          10000,
          10000,
          3000,
          9000
         ],
         "xaxis": "x2",
         "yaxis": "y2"
        },
        {
         "alignmentgroup": "True",
         "bingroup": "x",
         "hovertemplate": "workCity=福州<br>sal=%{x}<br>count=%{y}<extra></extra>",
         "legendgroup": "福州",
         "marker": {
          "color": "#EF553B",
          "pattern": {
           "shape": ""
          }
         },
         "name": "福州",
         "offsetgroup": "福州",
         "orientation": "v",
         "showlegend": true,
         "type": "histogram",
         "x": [
          7000,
          7000,
          7000,
          8000,
          7000,
          7000,
          5000,
          8000,
          8000,
          4000,
          null,
          8000,
          7000,
          10000,
          null
         ],
         "xaxis": "x",
         "yaxis": "y"
        },
        {
         "alignmentgroup": "True",
         "boxpoints": "all",
         "fillcolor": "rgba(255,255,255,0)",
         "hoveron": "points",
         "hovertemplate": "workCity=福州<br>sal=%{x}<extra></extra>",
         "jitter": 0,
         "legendgroup": "福州",
         "line": {
          "color": "rgba(255,255,255,0)"
         },
         "marker": {
          "color": "#EF553B",
          "symbol": "line-ns-open"
         },
         "name": "福州",
         "offsetgroup": "福州",
         "showlegend": false,
         "type": "box",
         "x": [
          7000,
          7000,
          7000,
          8000,
          7000,
          7000,
          5000,
          8000,
          8000,
          4000,
          null,
          8000,
          7000,
          10000,
          null
         ],
         "xaxis": "x2",
         "yaxis": "y2"
        },
        {
         "alignmentgroup": "True",
         "bingroup": "x",
         "hovertemplate": "workCity=厦门<br>sal=%{x}<br>count=%{y}<extra></extra>",
         "legendgroup": "厦门",
         "marker": {
          "color": "#00cc96",
          "pattern": {
           "shape": ""
          }
         },
         "name": "厦门",
         "offsetgroup": "厦门",
         "orientation": "v",
         "showlegend": true,
         "type": "histogram",
         "x": [
          30000,
          8000,
          7000,
          6000,
          7000,
          7000,
          6000,
          9000,
          6000,
          10000,
          6000,
          8000,
          6000,
          10000,
          4000
         ],
         "xaxis": "x",
         "yaxis": "y"
        },
        {
         "alignmentgroup": "True",
         "boxpoints": "all",
         "fillcolor": "rgba(255,255,255,0)",
         "hoveron": "points",
         "hovertemplate": "workCity=厦门<br>sal=%{x}<extra></extra>",
         "jitter": 0,
         "legendgroup": "厦门",
         "line": {
          "color": "rgba(255,255,255,0)"
         },
         "marker": {
          "color": "#00cc96",
          "symbol": "line-ns-open"
         },
         "name": "厦门",
         "offsetgroup": "厦门",
         "showlegend": false,
         "type": "box",
         "x": [
          30000,
          8000,
          7000,
          6000,
          7000,
          7000,
          6000,
          9000,
          6000,
          10000,
          6000,
          8000,
          6000,
          10000,
          4000
         ],
         "xaxis": "x2",
         "yaxis": "y2"
        },
        {
         "alignmentgroup": "True",
         "bingroup": "x",
         "hovertemplate": "workCity=哈尔滨<br>sal=%{x}<br>count=%{y}<extra></extra>",
         "legendgroup": "哈尔滨",
         "marker": {
          "color": "#ab63fa",
          "pattern": {
           "shape": ""
          }
         },
         "name": "哈尔滨",
         "offsetgroup": "哈尔滨",
         "orientation": "v",
         "showlegend": true,
         "type": "histogram",
         "x": [
          3000,
          4000,
          3000,
          4000,
          6000,
          8000,
          3000,
          5000,
          8000,
          null,
          4000,
          4000,
          5000,
          4000,
          6000,
          8000
         ],
         "xaxis": "x",
         "yaxis": "y"
        },
        {
         "alignmentgroup": "True",
         "boxpoints": "all",
         "fillcolor": "rgba(255,255,255,0)",
         "hoveron": "points",
         "hovertemplate": "workCity=哈尔滨<br>sal=%{x}<extra></extra>",
         "jitter": 0,
         "legendgroup": "哈尔滨",
         "line": {
          "color": "rgba(255,255,255,0)"
         },
         "marker": {
          "color": "#ab63fa",
          "symbol": "line-ns-open"
         },
         "name": "哈尔滨",
         "offsetgroup": "哈尔滨",
         "showlegend": false,
         "type": "box",
         "x": [
          3000,
          4000,
          3000,
          4000,
          6000,
          8000,
          3000,
          5000,
          8000,
          null,
          4000,
          4000,
          5000,
          4000,
          6000,
          8000
         ],
         "xaxis": "x2",
         "yaxis": "y2"
        }
       ],
       "layout": {
        "barmode": "relative",
        "legend": {
         "title": {
          "text": "workCity"
         },
         "tracegroupgap": 0
        },
        "margin": {
         "t": 60
        },
        "template": {
         "data": {
          "bar": [
           {
            "error_x": {
             "color": "#2a3f5f"
            },
            "error_y": {
             "color": "#2a3f5f"
            },
            "marker": {
             "line": {
              "color": "#E5ECF6",
              "width": 0.5
             },
             "pattern": {
              "fillmode": "overlay",
              "size": 10,
              "solidity": 0.2
             }
            },
            "type": "bar"
           }
          ],
          "barpolar": [
           {
            "marker": {
             "line": {
              "color": "#E5ECF6",
              "width": 0.5
             },
             "pattern": {
              "fillmode": "overlay",
              "size": 10,
              "solidity": 0.2
             }
            },
            "type": "barpolar"
           }
          ],
          "carpet": [
           {
            "aaxis": {
             "endlinecolor": "#2a3f5f",
             "gridcolor": "white",
             "linecolor": "white",
             "minorgridcolor": "white",
             "startlinecolor": "#2a3f5f"
            },
            "baxis": {
             "endlinecolor": "#2a3f5f",
             "gridcolor": "white",
             "linecolor": "white",
             "minorgridcolor": "white",
             "startlinecolor": "#2a3f5f"
            },
            "type": "carpet"
           }
          ],
          "choropleth": [
           {
            "colorbar": {
             "outlinewidth": 0,
             "ticks": ""
            },
            "type": "choropleth"
           }
          ],
          "contour": [
           {
            "colorbar": {
             "outlinewidth": 0,
             "ticks": ""
            },
            "colorscale": [
             [
              0,
              "#0d0887"
             ],
             [
              0.1111111111111111,
              "#46039f"
             ],
             [
              0.2222222222222222,
              "#7201a8"
             ],
             [
              0.3333333333333333,
              "#9c179e"
             ],
             [
              0.4444444444444444,
              "#bd3786"
             ],
             [
              0.5555555555555556,
              "#d8576b"
             ],
             [
              0.6666666666666666,
              "#ed7953"
             ],
             [
              0.7777777777777778,
              "#fb9f3a"
             ],
             [
              0.8888888888888888,
              "#fdca26"
             ],
             [
              1,
              "#f0f921"
             ]
            ],
            "type": "contour"
           }
          ],
          "contourcarpet": [
           {
            "colorbar": {
             "outlinewidth": 0,
             "ticks": ""
            },
            "type": "contourcarpet"
           }
          ],
          "heatmap": [
           {
            "colorbar": {
             "outlinewidth": 0,
             "ticks": ""
            },
            "colorscale": [
             [
              0,
              "#0d0887"
             ],
             [
              0.1111111111111111,
              "#46039f"
             ],
             [
              0.2222222222222222,
              "#7201a8"
             ],
             [
              0.3333333333333333,
              "#9c179e"
             ],
             [
              0.4444444444444444,
              "#bd3786"
             ],
             [
              0.5555555555555556,
              "#d8576b"
             ],
             [
              0.6666666666666666,
              "#ed7953"
             ],
             [
              0.7777777777777778,
              "#fb9f3a"
             ],
             [
              0.8888888888888888,
              "#fdca26"
             ],
             [
              1,
              "#f0f921"
             ]
            ],
            "type": "heatmap"
           }
          ],
          "heatmapgl": [
           {
            "colorbar": {
             "outlinewidth": 0,
             "ticks": ""
            },
            "colorscale": [
             [
              0,
              "#0d0887"
             ],
             [
              0.1111111111111111,
              "#46039f"
             ],
             [
              0.2222222222222222,
              "#7201a8"
             ],
             [
              0.3333333333333333,
              "#9c179e"
             ],
             [
              0.4444444444444444,
              "#bd3786"
             ],
             [
              0.5555555555555556,
              "#d8576b"
             ],
             [
              0.6666666666666666,
              "#ed7953"
             ],
             [
              0.7777777777777778,
              "#fb9f3a"
             ],
             [
              0.8888888888888888,
              "#fdca26"
             ],
             [
              1,
              "#f0f921"
             ]
            ],
            "type": "heatmapgl"
           }
          ],
          "histogram": [
           {
            "marker": {
             "pattern": {
              "fillmode": "overlay",
              "size": 10,
              "solidity": 0.2
             }
            },
            "type": "histogram"
           }
          ],
          "histogram2d": [
           {
            "colorbar": {
             "outlinewidth": 0,
             "ticks": ""
            },
            "colorscale": [
             [
              0,
              "#0d0887"
             ],
             [
              0.1111111111111111,
              "#46039f"
             ],
             [
              0.2222222222222222,
              "#7201a8"
             ],
             [
              0.3333333333333333,
              "#9c179e"
             ],
             [
              0.4444444444444444,
              "#bd3786"
             ],
             [
              0.5555555555555556,
              "#d8576b"
             ],
             [
              0.6666666666666666,
              "#ed7953"
             ],
             [
              0.7777777777777778,
              "#fb9f3a"
             ],
             [
              0.8888888888888888,
              "#fdca26"
             ],
             [
              1,
              "#f0f921"
             ]
            ],
            "type": "histogram2d"
           }
          ],
          "histogram2dcontour": [
           {
            "colorbar": {
             "outlinewidth": 0,
             "ticks": ""
            },
            "colorscale": [
             [
              0,
              "#0d0887"
             ],
             [
              0.1111111111111111,
              "#46039f"
             ],
             [
              0.2222222222222222,
              "#7201a8"
             ],
             [
              0.3333333333333333,
              "#9c179e"
             ],
             [
              0.4444444444444444,
              "#bd3786"
             ],
             [
              0.5555555555555556,
              "#d8576b"
             ],
             [
              0.6666666666666666,
              "#ed7953"
             ],
             [
              0.7777777777777778,
              "#fb9f3a"
             ],
             [
              0.8888888888888888,
              "#fdca26"
             ],
             [
              1,
              "#f0f921"
             ]
            ],
            "type": "histogram2dcontour"
           }
          ],
          "mesh3d": [
           {
            "colorbar": {
             "outlinewidth": 0,
             "ticks": ""
            },
            "type": "mesh3d"
           }
          ],
          "parcoords": [
           {
            "line": {
             "colorbar": {
              "outlinewidth": 0,
              "ticks": ""
             }
            },
            "type": "parcoords"
           }
          ],
          "pie": [
           {
            "automargin": true,
            "type": "pie"
           }
          ],
          "scatter": [
           {
            "fillpattern": {
             "fillmode": "overlay",
             "size": 10,
             "solidity": 0.2
            },
            "type": "scatter"
           }
          ],
          "scatter3d": [
           {
            "line": {
             "colorbar": {
              "outlinewidth": 0,
              "ticks": ""
             }
            },
            "marker": {
             "colorbar": {
              "outlinewidth": 0,
              "ticks": ""
             }
            },
            "type": "scatter3d"
           }
          ],
          "scattercarpet": [
           {
            "marker": {
             "colorbar": {
              "outlinewidth": 0,
              "ticks": ""
             }
            },
            "type": "scattercarpet"
           }
          ],
          "scattergeo": [
           {
            "marker": {
             "colorbar": {
              "outlinewidth": 0,
              "ticks": ""
             }
            },
            "type": "scattergeo"
           }
          ],
          "scattergl": [
           {
            "marker": {
             "colorbar": {
              "outlinewidth": 0,
              "ticks": ""
             }
            },
            "type": "scattergl"
           }
          ],
          "scattermapbox": [
           {
            "marker": {
             "colorbar": {
              "outlinewidth": 0,
              "ticks": ""
             }
            },
            "type": "scattermapbox"
           }
          ],
          "scatterpolar": [
           {
            "marker": {
             "colorbar": {
              "outlinewidth": 0,
              "ticks": ""
             }
            },
            "type": "scatterpolar"
           }
          ],
          "scatterpolargl": [
           {
            "marker": {
             "colorbar": {
              "outlinewidth": 0,
              "ticks": ""
             }
            },
            "type": "scatterpolargl"
           }
          ],
          "scatterternary": [
           {
            "marker": {
             "colorbar": {
              "outlinewidth": 0,
              "ticks": ""
             }
            },
            "type": "scatterternary"
           }
          ],
          "surface": [
           {
            "colorbar": {
             "outlinewidth": 0,
             "ticks": ""
            },
            "colorscale": [
             [
              0,
              "#0d0887"
             ],
             [
              0.1111111111111111,
              "#46039f"
             ],
             [
              0.2222222222222222,
              "#7201a8"
             ],
             [
              0.3333333333333333,
              "#9c179e"
             ],
             [
              0.4444444444444444,
              "#bd3786"
             ],
             [
              0.5555555555555556,
              "#d8576b"
             ],
             [
              0.6666666666666666,
              "#ed7953"
             ],
             [
              0.7777777777777778,
              "#fb9f3a"
             ],
             [
              0.8888888888888888,
              "#fdca26"
             ],
             [
              1,
              "#f0f921"
             ]
            ],
            "type": "surface"
           }
          ],
          "table": [
           {
            "cells": {
             "fill": {
              "color": "#EBF0F8"
             },
             "line": {
              "color": "white"
             }
            },
            "header": {
             "fill": {
              "color": "#C8D4E3"
             },
             "line": {
              "color": "white"
             }
            },
            "type": "table"
           }
          ]
         },
         "layout": {
          "annotationdefaults": {
           "arrowcolor": "#2a3f5f",
           "arrowhead": 0,
           "arrowwidth": 1
          },
          "autotypenumbers": "strict",
          "coloraxis": {
           "colorbar": {
            "outlinewidth": 0,
            "ticks": ""
           }
          },
          "colorscale": {
           "diverging": [
            [
             0,
             "#8e0152"
            ],
            [
             0.1,
             "#c51b7d"
            ],
            [
             0.2,
             "#de77ae"
            ],
            [
             0.3,
             "#f1b6da"
            ],
            [
             0.4,
             "#fde0ef"
            ],
            [
             0.5,
             "#f7f7f7"
            ],
            [
             0.6,
             "#e6f5d0"
            ],
            [
             0.7,
             "#b8e186"
            ],
            [
             0.8,
             "#7fbc41"
            ],
            [
             0.9,
             "#4d9221"
            ],
            [
             1,
             "#276419"
            ]
           ],
           "sequential": [
            [
             0,
             "#0d0887"
            ],
            [
             0.1111111111111111,
             "#46039f"
            ],
            [
             0.2222222222222222,
             "#7201a8"
            ],
            [
             0.3333333333333333,
             "#9c179e"
            ],
            [
             0.4444444444444444,
             "#bd3786"
            ],
            [
             0.5555555555555556,
             "#d8576b"
            ],
            [
             0.6666666666666666,
             "#ed7953"
            ],
            [
             0.7777777777777778,
             "#fb9f3a"
            ],
            [
             0.8888888888888888,
             "#fdca26"
            ],
            [
             1,
             "#f0f921"
            ]
           ],
           "sequentialminus": [
            [
             0,
             "#0d0887"
            ],
            [
             0.1111111111111111,
             "#46039f"
            ],
            [
             0.2222222222222222,
             "#7201a8"
            ],
            [
             0.3333333333333333,
             "#9c179e"
            ],
            [
             0.4444444444444444,
             "#bd3786"
            ],
            [
             0.5555555555555556,
             "#d8576b"
            ],
            [
             0.6666666666666666,
             "#ed7953"
            ],
            [
             0.7777777777777778,
             "#fb9f3a"
            ],
            [
             0.8888888888888888,
             "#fdca26"
            ],
            [
             1,
             "#f0f921"
            ]
           ]
          },
          "colorway": [
           "#636efa",
           "#EF553B",
           "#00cc96",
           "#ab63fa",
           "#FFA15A",
           "#19d3f3",
           "#FF6692",
           "#B6E880",
           "#FF97FF",
           "#FECB52"
          ],
          "font": {
           "color": "#2a3f5f"
          },
          "geo": {
           "bgcolor": "white",
           "lakecolor": "white",
           "landcolor": "#E5ECF6",
           "showlakes": true,
           "showland": true,
           "subunitcolor": "white"
          },
          "hoverlabel": {
           "align": "left"
          },
          "hovermode": "closest",
          "mapbox": {
           "style": "light"
          },
          "paper_bgcolor": "white",
          "plot_bgcolor": "#E5ECF6",
          "polar": {
           "angularaxis": {
            "gridcolor": "white",
            "linecolor": "white",
            "ticks": ""
           },
           "bgcolor": "#E5ECF6",
           "radialaxis": {
            "gridcolor": "white",
            "linecolor": "white",
            "ticks": ""
           }
          },
          "scene": {
           "xaxis": {
            "backgroundcolor": "#E5ECF6",
            "gridcolor": "white",
            "gridwidth": 2,
            "linecolor": "white",
            "showbackground": true,
            "ticks": "",
            "zerolinecolor": "white"
           },
           "yaxis": {
            "backgroundcolor": "#E5ECF6",
            "gridcolor": "white",
            "gridwidth": 2,
            "linecolor": "white",
            "showbackground": true,
            "ticks": "",
            "zerolinecolor": "white"
           },
           "zaxis": {
            "backgroundcolor": "#E5ECF6",
            "gridcolor": "white",
            "gridwidth": 2,
            "linecolor": "white",
            "showbackground": true,
            "ticks": "",
            "zerolinecolor": "white"
           }
          },
          "shapedefaults": {
           "line": {
            "color": "#2a3f5f"
           }
          },
          "ternary": {
           "aaxis": {
            "gridcolor": "white",
            "linecolor": "white",
            "ticks": ""
           },
           "baxis": {
            "gridcolor": "white",
            "linecolor": "white",
            "ticks": ""
           },
           "bgcolor": "#E5ECF6",
           "caxis": {
            "gridcolor": "white",
            "linecolor": "white",
            "ticks": ""
           }
          },
          "title": {
           "x": 0.05
          },
          "xaxis": {
           "automargin": true,
           "gridcolor": "white",
           "linecolor": "white",
           "ticks": "",
           "title": {
            "standoff": 15
           },
           "zerolinecolor": "white",
           "zerolinewidth": 2
          },
          "yaxis": {
           "automargin": true,
           "gridcolor": "white",
           "linecolor": "white",
           "ticks": "",
           "title": {
            "standoff": 15
           },
           "zerolinecolor": "white",
           "zerolinewidth": 2
          }
         }
        },
        "xaxis": {
         "anchor": "y",
         "domain": [
          0,
          1
         ],
         "title": {
          "text": "sal"
         }
        },
        "xaxis2": {
         "anchor": "y2",
         "domain": [
          0,
          1
         ],
         "matches": "x",
         "showgrid": true,
         "showticklabels": false
        },
        "yaxis": {
         "anchor": "x",
         "domain": [
          0,
          0.7326
         ],
         "title": {
          "text": "count"
         }
        },
        "yaxis2": {
         "anchor": "x2",
         "domain": [
          0.7426,
          1
         ],
         "matches": "y2",
         "showgrid": false,
         "showline": false,
         "showticklabels": false,
         "ticks": ""
        }
       }
      }
     },
     "metadata": {},
     "output_type": "display_data"
    }
   ],
   "source": [
    "ep.histogram(data, x='sal', color='workCity', marginal=\"rug\",)"
   ]
  },
  {
   "cell_type": "code",
   "execution_count": 30,
   "metadata": {},
   "outputs": [
    {
     "data": {
      "application/vnd.plotly.v1+json": {
       "config": {
        "plotlyServerURL": "https://plot.ly"
       },
       "data": [
        {
         "alignmentgroup": "True",
         "bingroup": "x",
         "hovertemplate": "companySize=20-99人<br>sal=%{x}<br>count=%{y}<extra></extra>",
         "legendgroup": "20-99人",
         "marker": {
          "color": "#636efa",
          "pattern": {
           "shape": ""
          }
         },
         "name": "20-99人",
         "offsetgroup": "20-99人",
         "orientation": "v",
         "showlegend": true,
         "type": "histogram",
         "x": [
          8000,
          8000,
          8000,
          10000,
          12000,
          null,
          15000,
          13000,
          null,
          4000,
          null,
          7000,
          7000,
          13000,
          6000,
          7000,
          4000,
          7000,
          8000,
          12000,
          10000,
          6000,
          7000,
          6000,
          4000,
          6000,
          7000,
          4000,
          4000,
          null,
          12000,
          3000,
          4000,
          6000,
          5000,
          10000,
          4000,
          9000,
          5000,
          9000,
          9000,
          6000,
          4000,
          15000,
          8000,
          8000,
          8000,
          8000,
          8000,
          8000,
          8000,
          8000,
          5000,
          7000,
          8000,
          5000,
          7000,
          9000,
          6000,
          6000,
          7000,
          6000,
          6000,
          6000,
          6000,
          5000,
          4000,
          4000,
          5000,
          7000,
          6000,
          10000,
          9000,
          9000,
          12000,
          5000,
          9000,
          9000,
          9000,
          6000,
          9000,
          5000,
          8000,
          8000,
          9000,
          9000,
          9000,
          5000,
          9000,
          9000,
          9000,
          9000,
          5000,
          6000,
          6000,
          8000,
          8000,
          5000,
          5000,
          12000,
          9000,
          9000,
          9000,
          8000,
          9000,
          9000,
          3000,
          8000,
          4000,
          7000,
          10000,
          6000,
          8000,
          5000,
          null,
          5000,
          4000,
          8000
         ],
         "xaxis": "x",
         "yaxis": "y"
        },
        {
         "alignmentgroup": "True",
         "boxpoints": "all",
         "fillcolor": "rgba(255,255,255,0)",
         "hoveron": "points",
         "hovertemplate": "companySize=20-99人<br>sal=%{x}<extra></extra>",
         "jitter": 0,
         "legendgroup": "20-99人",
         "line": {
          "color": "rgba(255,255,255,0)"
         },
         "marker": {
          "color": "#636efa",
          "symbol": "line-ns-open"
         },
         "name": "20-99人",
         "offsetgroup": "20-99人",
         "showlegend": false,
         "type": "box",
         "x": [
          8000,
          8000,
          8000,
          10000,
          12000,
          null,
          15000,
          13000,
          null,
          4000,
          null,
          7000,
          7000,
          13000,
          6000,
          7000,
          4000,
          7000,
          8000,
          12000,
          10000,
          6000,
          7000,
          6000,
          4000,
          6000,
          7000,
          4000,
          4000,
          null,
          12000,
          3000,
          4000,
          6000,
          5000,
          10000,
          4000,
          9000,
          5000,
          9000,
          9000,
          6000,
          4000,
          15000,
          8000,
          8000,
          8000,
          8000,
          8000,
          8000,
          8000,
          8000,
          5000,
          7000,
          8000,
          5000,
          7000,
          9000,
          6000,
          6000,
          7000,
          6000,
          6000,
          6000,
          6000,
          5000,
          4000,
          4000,
          5000,
          7000,
          6000,
          10000,
          9000,
          9000,
          12000,
          5000,
          9000,
          9000,
          9000,
          6000,
          9000,
          5000,
          8000,
          8000,
          9000,
          9000,
          9000,
          5000,
          9000,
          9000,
          9000,
          9000,
          5000,
          6000,
          6000,
          8000,
          8000,
          5000,
          5000,
          12000,
          9000,
          9000,
          9000,
          8000,
          9000,
          9000,
          3000,
          8000,
          4000,
          7000,
          10000,
          6000,
          8000,
          5000,
          null,
          5000,
          4000,
          8000
         ],
         "xaxis": "x2",
         "yaxis": "y2"
        },
        {
         "alignmentgroup": "True",
         "bingroup": "x",
         "hovertemplate": "companySize=1000-9999人<br>sal=%{x}<br>count=%{y}<extra></extra>",
         "legendgroup": "1000-9999人",
         "marker": {
          "color": "#EF553B",
          "pattern": {
           "shape": ""
          }
         },
         "name": "1000-9999人",
         "offsetgroup": "1000-9999人",
         "orientation": "v",
         "showlegend": true,
         "type": "histogram",
         "x": [
          25000,
          8000,
          5000,
          8000,
          10000,
          12000,
          10000,
          null,
          8000,
          4000,
          null,
          10000,
          10000,
          22000,
          6000,
          8000,
          6000,
          6000,
          5000,
          5000,
          4000,
          4000,
          4000,
          9000,
          20000,
          7000,
          4000,
          20000,
          null,
          6000,
          15000,
          15000,
          10000,
          8000,
          6000,
          6000,
          6000,
          6000,
          5000,
          7000,
          8000,
          13000,
          6000,
          6000,
          6000,
          6000,
          6000,
          6000,
          12000,
          5000,
          7000,
          6000,
          10000,
          20000,
          6000,
          6000,
          5000,
          null,
          5000,
          6000,
          9000,
          null,
          6000,
          3000,
          5000,
          8000,
          8000,
          7000,
          6000,
          7000,
          5000,
          8000,
          8000,
          null,
          6000,
          6000,
          4000
         ],
         "xaxis": "x",
         "yaxis": "y"
        },
        {
         "alignmentgroup": "True",
         "boxpoints": "all",
         "fillcolor": "rgba(255,255,255,0)",
         "hoveron": "points",
         "hovertemplate": "companySize=1000-9999人<br>sal=%{x}<extra></extra>",
         "jitter": 0,
         "legendgroup": "1000-9999人",
         "line": {
          "color": "rgba(255,255,255,0)"
         },
         "marker": {
          "color": "#EF553B",
          "symbol": "line-ns-open"
         },
         "name": "1000-9999人",
         "offsetgroup": "1000-9999人",
         "showlegend": false,
         "type": "box",
         "x": [
          25000,
          8000,
          5000,
          8000,
          10000,
          12000,
          10000,
          null,
          8000,
          4000,
          null,
          10000,
          10000,
          22000,
          6000,
          8000,
          6000,
          6000,
          5000,
          5000,
          4000,
          4000,
          4000,
          9000,
          20000,
          7000,
          4000,
          20000,
          null,
          6000,
          15000,
          15000,
          10000,
          8000,
          6000,
          6000,
          6000,
          6000,
          5000,
          7000,
          8000,
          13000,
          6000,
          6000,
          6000,
          6000,
          6000,
          6000,
          12000,
          5000,
          7000,
          6000,
          10000,
          20000,
          6000,
          6000,
          5000,
          null,
          5000,
          6000,
          9000,
          null,
          6000,
          3000,
          5000,
          8000,
          8000,
          7000,
          6000,
          7000,
          5000,
          8000,
          8000,
          null,
          6000,
          6000,
          4000
         ],
         "xaxis": "x2",
         "yaxis": "y2"
        },
        {
         "alignmentgroup": "True",
         "bingroup": "x",
         "hovertemplate": "companySize=100-299人<br>sal=%{x}<br>count=%{y}<extra></extra>",
         "legendgroup": "100-299人",
         "marker": {
          "color": "#00cc96",
          "pattern": {
           "shape": ""
          }
         },
         "name": "100-299人",
         "offsetgroup": "100-299人",
         "orientation": "v",
         "showlegend": true,
         "type": "histogram",
         "x": [
          15000,
          null,
          null,
          12000,
          8000,
          8000,
          6000,
          8000,
          8000,
          9000,
          8000,
          8000,
          8000,
          8000,
          16000,
          5000,
          6000,
          7000,
          6000,
          9000,
          5000,
          15000,
          5000,
          14000,
          13000,
          10000,
          15000,
          6000,
          2000,
          8000,
          4000,
          6000,
          5000,
          4000,
          4000,
          7000,
          6000,
          null,
          null,
          6000,
          9000,
          6000,
          5000,
          4000,
          6000,
          5000,
          6000,
          4000,
          10000,
          3000,
          4000,
          16000,
          8000,
          4000,
          8000,
          5000,
          6000,
          4000,
          6000,
          5000,
          6000,
          7000,
          5000,
          7000,
          6000,
          5000,
          8000,
          15000,
          10000,
          8000,
          10000,
          5000,
          6000,
          5000,
          11000,
          7000,
          8000,
          4000,
          6000,
          6000,
          8000,
          8000,
          7000,
          7000,
          7000,
          8000,
          7000,
          8000,
          6000,
          8000,
          6000,
          4000,
          3000,
          4000,
          3000,
          4000,
          3000,
          8000,
          4000,
          6000
         ],
         "xaxis": "x",
         "yaxis": "y"
        },
        {
         "alignmentgroup": "True",
         "boxpoints": "all",
         "fillcolor": "rgba(255,255,255,0)",
         "hoveron": "points",
         "hovertemplate": "companySize=100-299人<br>sal=%{x}<extra></extra>",
         "jitter": 0,
         "legendgroup": "100-299人",
         "line": {
          "color": "rgba(255,255,255,0)"
         },
         "marker": {
          "color": "#00cc96",
          "symbol": "line-ns-open"
         },
         "name": "100-299人",
         "offsetgroup": "100-299人",
         "showlegend": false,
         "type": "box",
         "x": [
          15000,
          null,
          null,
          12000,
          8000,
          8000,
          6000,
          8000,
          8000,
          9000,
          8000,
          8000,
          8000,
          8000,
          16000,
          5000,
          6000,
          7000,
          6000,
          9000,
          5000,
          15000,
          5000,
          14000,
          13000,
          10000,
          15000,
          6000,
          2000,
          8000,
          4000,
          6000,
          5000,
          4000,
          4000,
          7000,
          6000,
          null,
          null,
          6000,
          9000,
          6000,
          5000,
          4000,
          6000,
          5000,
          6000,
          4000,
          10000,
          3000,
          4000,
          16000,
          8000,
          4000,
          8000,
          5000,
          6000,
          4000,
          6000,
          5000,
          6000,
          7000,
          5000,
          7000,
          6000,
          5000,
          8000,
          15000,
          10000,
          8000,
          10000,
          5000,
          6000,
          5000,
          11000,
          7000,
          8000,
          4000,
          6000,
          6000,
          8000,
          8000,
          7000,
          7000,
          7000,
          8000,
          7000,
          8000,
          6000,
          8000,
          6000,
          4000,
          3000,
          4000,
          3000,
          4000,
          3000,
          8000,
          4000,
          6000
         ],
         "xaxis": "x2",
         "yaxis": "y2"
        },
        {
         "alignmentgroup": "True",
         "bingroup": "x",
         "hovertemplate": "companySize=10000人以上<br>sal=%{x}<br>count=%{y}<extra></extra>",
         "legendgroup": "10000人以上",
         "marker": {
          "color": "#ab63fa",
          "pattern": {
           "shape": ""
          }
         },
         "name": "10000人以上",
         "offsetgroup": "10000人以上",
         "orientation": "v",
         "showlegend": true,
         "type": "histogram",
         "x": [
          30000,
          6000,
          8000,
          6000,
          15000,
          15000,
          15000,
          15000,
          10000,
          15000,
          null,
          null,
          7000,
          4000,
          7000,
          5000,
          5000,
          5000,
          7000,
          5000,
          15000,
          10000,
          5000,
          null,
          8000,
          null,
          12000,
          12000,
          20000,
          8000,
          null,
          5000,
          12000,
          6000,
          null,
          6000,
          5000,
          5000,
          12000,
          10000,
          null,
          30000,
          6000,
          7000,
          7000
         ],
         "xaxis": "x",
         "yaxis": "y"
        },
        {
         "alignmentgroup": "True",
         "boxpoints": "all",
         "fillcolor": "rgba(255,255,255,0)",
         "hoveron": "points",
         "hovertemplate": "companySize=10000人以上<br>sal=%{x}<extra></extra>",
         "jitter": 0,
         "legendgroup": "10000人以上",
         "line": {
          "color": "rgba(255,255,255,0)"
         },
         "marker": {
          "color": "#ab63fa",
          "symbol": "line-ns-open"
         },
         "name": "10000人以上",
         "offsetgroup": "10000人以上",
         "showlegend": false,
         "type": "box",
         "x": [
          30000,
          6000,
          8000,
          6000,
          15000,
          15000,
          15000,
          15000,
          10000,
          15000,
          null,
          null,
          7000,
          4000,
          7000,
          5000,
          5000,
          5000,
          7000,
          5000,
          15000,
          10000,
          5000,
          null,
          8000,
          null,
          12000,
          12000,
          20000,
          8000,
          null,
          5000,
          12000,
          6000,
          null,
          6000,
          5000,
          5000,
          12000,
          10000,
          null,
          30000,
          6000,
          7000,
          7000
         ],
         "xaxis": "x2",
         "yaxis": "y2"
        },
        {
         "alignmentgroup": "True",
         "bingroup": "x",
         "hovertemplate": "companySize=300-499人<br>sal=%{x}<br>count=%{y}<extra></extra>",
         "legendgroup": "300-499人",
         "marker": {
          "color": "#FFA15A",
          "pattern": {
           "shape": ""
          }
         },
         "name": "300-499人",
         "offsetgroup": "300-499人",
         "orientation": "v",
         "showlegend": true,
         "type": "histogram",
         "x": [
          8000,
          5000,
          4000,
          3000,
          5000,
          11000,
          9000,
          9000,
          15000,
          6000,
          4000
         ],
         "xaxis": "x",
         "yaxis": "y"
        },
        {
         "alignmentgroup": "True",
         "boxpoints": "all",
         "fillcolor": "rgba(255,255,255,0)",
         "hoveron": "points",
         "hovertemplate": "companySize=300-499人<br>sal=%{x}<extra></extra>",
         "jitter": 0,
         "legendgroup": "300-499人",
         "line": {
          "color": "rgba(255,255,255,0)"
         },
         "marker": {
          "color": "#FFA15A",
          "symbol": "line-ns-open"
         },
         "name": "300-499人",
         "offsetgroup": "300-499人",
         "showlegend": false,
         "type": "box",
         "x": [
          8000,
          5000,
          4000,
          3000,
          5000,
          11000,
          9000,
          9000,
          15000,
          6000,
          4000
         ],
         "xaxis": "x2",
         "yaxis": "y2"
        },
        {
         "alignmentgroup": "True",
         "bingroup": "x",
         "hovertemplate": "companySize=500-999人<br>sal=%{x}<br>count=%{y}<extra></extra>",
         "legendgroup": "500-999人",
         "marker": {
          "color": "#19d3f3",
          "pattern": {
           "shape": ""
          }
         },
         "name": "500-999人",
         "offsetgroup": "500-999人",
         "orientation": "v",
         "showlegend": true,
         "type": "histogram",
         "x": [
          8000,
          6000,
          8000,
          4000,
          10000,
          9000,
          10000,
          10000,
          4000,
          8000,
          7000,
          5000,
          null,
          8000,
          5000,
          10000,
          5000,
          5000,
          10000,
          5000,
          7000,
          7000,
          7000,
          6000,
          7000,
          7000,
          7000,
          6000,
          4000,
          7000,
          5000,
          6000,
          5000,
          20000,
          5000,
          10000,
          10000,
          7000
         ],
         "xaxis": "x",
         "yaxis": "y"
        },
        {
         "alignmentgroup": "True",
         "boxpoints": "all",
         "fillcolor": "rgba(255,255,255,0)",
         "hoveron": "points",
         "hovertemplate": "companySize=500-999人<br>sal=%{x}<extra></extra>",
         "jitter": 0,
         "legendgroup": "500-999人",
         "line": {
          "color": "rgba(255,255,255,0)"
         },
         "marker": {
          "color": "#19d3f3",
          "symbol": "line-ns-open"
         },
         "name": "500-999人",
         "offsetgroup": "500-999人",
         "showlegend": false,
         "type": "box",
         "x": [
          8000,
          6000,
          8000,
          4000,
          10000,
          9000,
          10000,
          10000,
          4000,
          8000,
          7000,
          5000,
          null,
          8000,
          5000,
          10000,
          5000,
          5000,
          10000,
          5000,
          7000,
          7000,
          7000,
          6000,
          7000,
          7000,
          7000,
          6000,
          4000,
          7000,
          5000,
          6000,
          5000,
          20000,
          5000,
          10000,
          10000,
          7000
         ],
         "xaxis": "x2",
         "yaxis": "y2"
        },
        {
         "alignmentgroup": "True",
         "bingroup": "x",
         "hovertemplate": "companySize=20人以下<br>sal=%{x}<br>count=%{y}<extra></extra>",
         "legendgroup": "20人以下",
         "marker": {
          "color": "#FF6692",
          "pattern": {
           "shape": ""
          }
         },
         "name": "20人以下",
         "offsetgroup": "20人以下",
         "orientation": "v",
         "showlegend": true,
         "type": "histogram",
         "x": [
          14000,
          15000,
          4000,
          6000,
          50000,
          6000,
          9000,
          9000,
          9000,
          null,
          9000,
          9000,
          10000
         ],
         "xaxis": "x",
         "yaxis": "y"
        },
        {
         "alignmentgroup": "True",
         "boxpoints": "all",
         "fillcolor": "rgba(255,255,255,0)",
         "hoveron": "points",
         "hovertemplate": "companySize=20人以下<br>sal=%{x}<extra></extra>",
         "jitter": 0,
         "legendgroup": "20人以下",
         "line": {
          "color": "rgba(255,255,255,0)"
         },
         "marker": {
          "color": "#FF6692",
          "symbol": "line-ns-open"
         },
         "name": "20人以下",
         "offsetgroup": "20人以下",
         "showlegend": false,
         "type": "box",
         "x": [
          14000,
          15000,
          4000,
          6000,
          50000,
          6000,
          9000,
          9000,
          9000,
          null,
          9000,
          9000,
          10000
         ],
         "xaxis": "x2",
         "yaxis": "y2"
        },
        {
         "alignmentgroup": "True",
         "bingroup": "x",
         "hovertemplate": "companySize=<br>sal=%{x}<br>count=%{y}<extra></extra>",
         "legendgroup": "",
         "marker": {
          "color": "#B6E880",
          "pattern": {
           "shape": ""
          }
         },
         "name": "",
         "offsetgroup": "",
         "orientation": "v",
         "showlegend": false,
         "type": "histogram",
         "x": [
          9000,
          6000,
          7000,
          6000,
          null,
          20000,
          null,
          6000
         ],
         "xaxis": "x",
         "yaxis": "y"
        },
        {
         "alignmentgroup": "True",
         "boxpoints": "all",
         "fillcolor": "rgba(255,255,255,0)",
         "hoveron": "points",
         "hovertemplate": "companySize=<br>sal=%{x}<extra></extra>",
         "jitter": 0,
         "legendgroup": "",
         "line": {
          "color": "rgba(255,255,255,0)"
         },
         "marker": {
          "color": "#B6E880",
          "symbol": "line-ns-open"
         },
         "name": "",
         "offsetgroup": "",
         "showlegend": false,
         "type": "box",
         "x": [
          9000,
          6000,
          7000,
          6000,
          null,
          20000,
          null,
          6000
         ],
         "xaxis": "x2",
         "yaxis": "y2"
        }
       ],
       "layout": {
        "barmode": "relative",
        "legend": {
         "title": {
          "text": "companySize"
         },
         "tracegroupgap": 0
        },
        "margin": {
         "t": 60
        },
        "template": {
         "data": {
          "bar": [
           {
            "error_x": {
             "color": "#2a3f5f"
            },
            "error_y": {
             "color": "#2a3f5f"
            },
            "marker": {
             "line": {
              "color": "#E5ECF6",
              "width": 0.5
             },
             "pattern": {
              "fillmode": "overlay",
              "size": 10,
              "solidity": 0.2
             }
            },
            "type": "bar"
           }
          ],
          "barpolar": [
           {
            "marker": {
             "line": {
              "color": "#E5ECF6",
              "width": 0.5
             },
             "pattern": {
              "fillmode": "overlay",
              "size": 10,
              "solidity": 0.2
             }
            },
            "type": "barpolar"
           }
          ],
          "carpet": [
           {
            "aaxis": {
             "endlinecolor": "#2a3f5f",
             "gridcolor": "white",
             "linecolor": "white",
             "minorgridcolor": "white",
             "startlinecolor": "#2a3f5f"
            },
            "baxis": {
             "endlinecolor": "#2a3f5f",
             "gridcolor": "white",
             "linecolor": "white",
             "minorgridcolor": "white",
             "startlinecolor": "#2a3f5f"
            },
            "type": "carpet"
           }
          ],
          "choropleth": [
           {
            "colorbar": {
             "outlinewidth": 0,
             "ticks": ""
            },
            "type": "choropleth"
           }
          ],
          "contour": [
           {
            "colorbar": {
             "outlinewidth": 0,
             "ticks": ""
            },
            "colorscale": [
             [
              0,
              "#0d0887"
             ],
             [
              0.1111111111111111,
              "#46039f"
             ],
             [
              0.2222222222222222,
              "#7201a8"
             ],
             [
              0.3333333333333333,
              "#9c179e"
             ],
             [
              0.4444444444444444,
              "#bd3786"
             ],
             [
              0.5555555555555556,
              "#d8576b"
             ],
             [
              0.6666666666666666,
              "#ed7953"
             ],
             [
              0.7777777777777778,
              "#fb9f3a"
             ],
             [
              0.8888888888888888,
              "#fdca26"
             ],
             [
              1,
              "#f0f921"
             ]
            ],
            "type": "contour"
           }
          ],
          "contourcarpet": [
           {
            "colorbar": {
             "outlinewidth": 0,
             "ticks": ""
            },
            "type": "contourcarpet"
           }
          ],
          "heatmap": [
           {
            "colorbar": {
             "outlinewidth": 0,
             "ticks": ""
            },
            "colorscale": [
             [
              0,
              "#0d0887"
             ],
             [
              0.1111111111111111,
              "#46039f"
             ],
             [
              0.2222222222222222,
              "#7201a8"
             ],
             [
              0.3333333333333333,
              "#9c179e"
             ],
             [
              0.4444444444444444,
              "#bd3786"
             ],
             [
              0.5555555555555556,
              "#d8576b"
             ],
             [
              0.6666666666666666,
              "#ed7953"
             ],
             [
              0.7777777777777778,
              "#fb9f3a"
             ],
             [
              0.8888888888888888,
              "#fdca26"
             ],
             [
              1,
              "#f0f921"
             ]
            ],
            "type": "heatmap"
           }
          ],
          "heatmapgl": [
           {
            "colorbar": {
             "outlinewidth": 0,
             "ticks": ""
            },
            "colorscale": [
             [
              0,
              "#0d0887"
             ],
             [
              0.1111111111111111,
              "#46039f"
             ],
             [
              0.2222222222222222,
              "#7201a8"
             ],
             [
              0.3333333333333333,
              "#9c179e"
             ],
             [
              0.4444444444444444,
              "#bd3786"
             ],
             [
              0.5555555555555556,
              "#d8576b"
             ],
             [
              0.6666666666666666,
              "#ed7953"
             ],
             [
              0.7777777777777778,
              "#fb9f3a"
             ],
             [
              0.8888888888888888,
              "#fdca26"
             ],
             [
              1,
              "#f0f921"
             ]
            ],
            "type": "heatmapgl"
           }
          ],
          "histogram": [
           {
            "marker": {
             "pattern": {
              "fillmode": "overlay",
              "size": 10,
              "solidity": 0.2
             }
            },
            "type": "histogram"
           }
          ],
          "histogram2d": [
           {
            "colorbar": {
             "outlinewidth": 0,
             "ticks": ""
            },
            "colorscale": [
             [
              0,
              "#0d0887"
             ],
             [
              0.1111111111111111,
              "#46039f"
             ],
             [
              0.2222222222222222,
              "#7201a8"
             ],
             [
              0.3333333333333333,
              "#9c179e"
             ],
             [
              0.4444444444444444,
              "#bd3786"
             ],
             [
              0.5555555555555556,
              "#d8576b"
             ],
             [
              0.6666666666666666,
              "#ed7953"
             ],
             [
              0.7777777777777778,
              "#fb9f3a"
             ],
             [
              0.8888888888888888,
              "#fdca26"
             ],
             [
              1,
              "#f0f921"
             ]
            ],
            "type": "histogram2d"
           }
          ],
          "histogram2dcontour": [
           {
            "colorbar": {
             "outlinewidth": 0,
             "ticks": ""
            },
            "colorscale": [
             [
              0,
              "#0d0887"
             ],
             [
              0.1111111111111111,
              "#46039f"
             ],
             [
              0.2222222222222222,
              "#7201a8"
             ],
             [
              0.3333333333333333,
              "#9c179e"
             ],
             [
              0.4444444444444444,
              "#bd3786"
             ],
             [
              0.5555555555555556,
              "#d8576b"
             ],
             [
              0.6666666666666666,
              "#ed7953"
             ],
             [
              0.7777777777777778,
              "#fb9f3a"
             ],
             [
              0.8888888888888888,
              "#fdca26"
             ],
             [
              1,
              "#f0f921"
             ]
            ],
            "type": "histogram2dcontour"
           }
          ],
          "mesh3d": [
           {
            "colorbar": {
             "outlinewidth": 0,
             "ticks": ""
            },
            "type": "mesh3d"
           }
          ],
          "parcoords": [
           {
            "line": {
             "colorbar": {
              "outlinewidth": 0,
              "ticks": ""
             }
            },
            "type": "parcoords"
           }
          ],
          "pie": [
           {
            "automargin": true,
            "type": "pie"
           }
          ],
          "scatter": [
           {
            "fillpattern": {
             "fillmode": "overlay",
             "size": 10,
             "solidity": 0.2
            },
            "type": "scatter"
           }
          ],
          "scatter3d": [
           {
            "line": {
             "colorbar": {
              "outlinewidth": 0,
              "ticks": ""
             }
            },
            "marker": {
             "colorbar": {
              "outlinewidth": 0,
              "ticks": ""
             }
            },
            "type": "scatter3d"
           }
          ],
          "scattercarpet": [
           {
            "marker": {
             "colorbar": {
              "outlinewidth": 0,
              "ticks": ""
             }
            },
            "type": "scattercarpet"
           }
          ],
          "scattergeo": [
           {
            "marker": {
             "colorbar": {
              "outlinewidth": 0,
              "ticks": ""
             }
            },
            "type": "scattergeo"
           }
          ],
          "scattergl": [
           {
            "marker": {
             "colorbar": {
              "outlinewidth": 0,
              "ticks": ""
             }
            },
            "type": "scattergl"
           }
          ],
          "scattermapbox": [
           {
            "marker": {
             "colorbar": {
              "outlinewidth": 0,
              "ticks": ""
             }
            },
            "type": "scattermapbox"
           }
          ],
          "scatterpolar": [
           {
            "marker": {
             "colorbar": {
              "outlinewidth": 0,
              "ticks": ""
             }
            },
            "type": "scatterpolar"
           }
          ],
          "scatterpolargl": [
           {
            "marker": {
             "colorbar": {
              "outlinewidth": 0,
              "ticks": ""
             }
            },
            "type": "scatterpolargl"
           }
          ],
          "scatterternary": [
           {
            "marker": {
             "colorbar": {
              "outlinewidth": 0,
              "ticks": ""
             }
            },
            "type": "scatterternary"
           }
          ],
          "surface": [
           {
            "colorbar": {
             "outlinewidth": 0,
             "ticks": ""
            },
            "colorscale": [
             [
              0,
              "#0d0887"
             ],
             [
              0.1111111111111111,
              "#46039f"
             ],
             [
              0.2222222222222222,
              "#7201a8"
             ],
             [
              0.3333333333333333,
              "#9c179e"
             ],
             [
              0.4444444444444444,
              "#bd3786"
             ],
             [
              0.5555555555555556,
              "#d8576b"
             ],
             [
              0.6666666666666666,
              "#ed7953"
             ],
             [
              0.7777777777777778,
              "#fb9f3a"
             ],
             [
              0.8888888888888888,
              "#fdca26"
             ],
             [
              1,
              "#f0f921"
             ]
            ],
            "type": "surface"
           }
          ],
          "table": [
           {
            "cells": {
             "fill": {
              "color": "#EBF0F8"
             },
             "line": {
              "color": "white"
             }
            },
            "header": {
             "fill": {
              "color": "#C8D4E3"
             },
             "line": {
              "color": "white"
             }
            },
            "type": "table"
           }
          ]
         },
         "layout": {
          "annotationdefaults": {
           "arrowcolor": "#2a3f5f",
           "arrowhead": 0,
           "arrowwidth": 1
          },
          "autotypenumbers": "strict",
          "coloraxis": {
           "colorbar": {
            "outlinewidth": 0,
            "ticks": ""
           }
          },
          "colorscale": {
           "diverging": [
            [
             0,
             "#8e0152"
            ],
            [
             0.1,
             "#c51b7d"
            ],
            [
             0.2,
             "#de77ae"
            ],
            [
             0.3,
             "#f1b6da"
            ],
            [
             0.4,
             "#fde0ef"
            ],
            [
             0.5,
             "#f7f7f7"
            ],
            [
             0.6,
             "#e6f5d0"
            ],
            [
             0.7,
             "#b8e186"
            ],
            [
             0.8,
             "#7fbc41"
            ],
            [
             0.9,
             "#4d9221"
            ],
            [
             1,
             "#276419"
            ]
           ],
           "sequential": [
            [
             0,
             "#0d0887"
            ],
            [
             0.1111111111111111,
             "#46039f"
            ],
            [
             0.2222222222222222,
             "#7201a8"
            ],
            [
             0.3333333333333333,
             "#9c179e"
            ],
            [
             0.4444444444444444,
             "#bd3786"
            ],
            [
             0.5555555555555556,
             "#d8576b"
            ],
            [
             0.6666666666666666,
             "#ed7953"
            ],
            [
             0.7777777777777778,
             "#fb9f3a"
            ],
            [
             0.8888888888888888,
             "#fdca26"
            ],
            [
             1,
             "#f0f921"
            ]
           ],
           "sequentialminus": [
            [
             0,
             "#0d0887"
            ],
            [
             0.1111111111111111,
             "#46039f"
            ],
            [
             0.2222222222222222,
             "#7201a8"
            ],
            [
             0.3333333333333333,
             "#9c179e"
            ],
            [
             0.4444444444444444,
             "#bd3786"
            ],
            [
             0.5555555555555556,
             "#d8576b"
            ],
            [
             0.6666666666666666,
             "#ed7953"
            ],
            [
             0.7777777777777778,
             "#fb9f3a"
            ],
            [
             0.8888888888888888,
             "#fdca26"
            ],
            [
             1,
             "#f0f921"
            ]
           ]
          },
          "colorway": [
           "#636efa",
           "#EF553B",
           "#00cc96",
           "#ab63fa",
           "#FFA15A",
           "#19d3f3",
           "#FF6692",
           "#B6E880",
           "#FF97FF",
           "#FECB52"
          ],
          "font": {
           "color": "#2a3f5f"
          },
          "geo": {
           "bgcolor": "white",
           "lakecolor": "white",
           "landcolor": "#E5ECF6",
           "showlakes": true,
           "showland": true,
           "subunitcolor": "white"
          },
          "hoverlabel": {
           "align": "left"
          },
          "hovermode": "closest",
          "mapbox": {
           "style": "light"
          },
          "paper_bgcolor": "white",
          "plot_bgcolor": "#E5ECF6",
          "polar": {
           "angularaxis": {
            "gridcolor": "white",
            "linecolor": "white",
            "ticks": ""
           },
           "bgcolor": "#E5ECF6",
           "radialaxis": {
            "gridcolor": "white",
            "linecolor": "white",
            "ticks": ""
           }
          },
          "scene": {
           "xaxis": {
            "backgroundcolor": "#E5ECF6",
            "gridcolor": "white",
            "gridwidth": 2,
            "linecolor": "white",
            "showbackground": true,
            "ticks": "",
            "zerolinecolor": "white"
           },
           "yaxis": {
            "backgroundcolor": "#E5ECF6",
            "gridcolor": "white",
            "gridwidth": 2,
            "linecolor": "white",
            "showbackground": true,
            "ticks": "",
            "zerolinecolor": "white"
           },
           "zaxis": {
            "backgroundcolor": "#E5ECF6",
            "gridcolor": "white",
            "gridwidth": 2,
            "linecolor": "white",
            "showbackground": true,
            "ticks": "",
            "zerolinecolor": "white"
           }
          },
          "shapedefaults": {
           "line": {
            "color": "#2a3f5f"
           }
          },
          "ternary": {
           "aaxis": {
            "gridcolor": "white",
            "linecolor": "white",
            "ticks": ""
           },
           "baxis": {
            "gridcolor": "white",
            "linecolor": "white",
            "ticks": ""
           },
           "bgcolor": "#E5ECF6",
           "caxis": {
            "gridcolor": "white",
            "linecolor": "white",
            "ticks": ""
           }
          },
          "title": {
           "x": 0.05
          },
          "xaxis": {
           "automargin": true,
           "gridcolor": "white",
           "linecolor": "white",
           "ticks": "",
           "title": {
            "standoff": 15
           },
           "zerolinecolor": "white",
           "zerolinewidth": 2
          },
          "yaxis": {
           "automargin": true,
           "gridcolor": "white",
           "linecolor": "white",
           "ticks": "",
           "title": {
            "standoff": 15
           },
           "zerolinecolor": "white",
           "zerolinewidth": 2
          }
         }
        },
        "xaxis": {
         "anchor": "y",
         "domain": [
          0,
          1
         ],
         "title": {
          "text": "sal"
         }
        },
        "xaxis2": {
         "anchor": "y2",
         "domain": [
          0,
          1
         ],
         "matches": "x",
         "showgrid": true,
         "showticklabels": false
        },
        "yaxis": {
         "anchor": "x",
         "domain": [
          0,
          0.7326
         ],
         "title": {
          "text": "count"
         }
        },
        "yaxis2": {
         "anchor": "x2",
         "domain": [
          0.7426,
          1
         ],
         "matches": "y2",
         "showgrid": false,
         "showline": false,
         "showticklabels": false,
         "ticks": ""
        }
       }
      }
     },
     "metadata": {},
     "output_type": "display_data"
    }
   ],
   "source": [
    "ep.histogram(data, x='sal', color='companySize', marginal=\"rug\",)"
   ]
  },
  {
   "cell_type": "code",
   "execution_count": 36,
   "metadata": {},
   "outputs": [
    {
     "data": {
      "application/vnd.plotly.v1+json": {
       "config": {
        "plotlyServerURL": "https://plot.ly"
       },
       "data": [
        {
         "hovertemplate": "companySize=%{x}<br>sal=%{y}<extra></extra>",
         "legendgroup": "",
         "marker": {
          "color": "#636efa",
          "symbol": "circle"
         },
         "mode": "markers",
         "name": "",
         "orientation": "v",
         "showlegend": false,
         "type": "scatter",
         "x": [
          "20-99人",
          "1000-9999人",
          "20-99人",
          "20-99人",
          "100-299人",
          "20-99人",
          "20-99人",
          "100-299人",
          "100-299人",
          "20-99人",
          "20-99人",
          "20-99人",
          "20-99人",
          "100-299人",
          "20-99人",
          "20-99人",
          "100-299人",
          "100-299人",
          "100-299人",
          "100-299人",
          "20-99人",
          "20-99人",
          "20-99人",
          "10000人以上",
          "20-99人",
          "100-299人",
          "300-499人",
          "100-299人",
          "100-299人",
          "100-299人",
          "100-299人",
          "100-299人",
          "1000-9999人",
          "20-99人",
          "500-999人",
          "500-999人",
          "1000-9999人",
          "20-99人",
          "1000-9999人",
          "1000-9999人",
          "10000人以上",
          "100-299人",
          "1000-9999人",
          "100-299人",
          "20-99人",
          "1000-9999人",
          "100-299人",
          "20-99人",
          "20-99人",
          "100-299人",
          "100-299人",
          "20-99人",
          "100-299人",
          "500-999人",
          "1000-9999人",
          "20-99人",
          "100-299人",
          "20-99人",
          "100-299人",
          "100-299人",
          "10000人以上",
          "100-299人",
          "20人以下",
          "20人以下",
          "100-299人",
          "1000-9999人",
          "100-299人",
          "100-299人",
          "1000-9999人",
          "20-99人",
          "20-99人",
          "20-99人",
          "10000人以上",
          "1000-9999人",
          "20人以下",
          "1000-9999人",
          "100-299人",
          "100-299人",
          "1000-9999人",
          "100-299人",
          "1000-9999人",
          "10000人以上",
          "20-99人",
          "20-99人",
          "100-299人",
          "20-99人",
          "100-299人",
          "10000人以上",
          "10000人以上",
          "10000人以上",
          "100-299人",
          "10000人以上",
          "10000人以上",
          "1000-9999人",
          "10000人以上",
          "100-299人",
          "500-999人",
          "20-99人",
          "1000-9999人",
          "20-99人",
          "100-299人",
          "20-99人",
          "500-999人",
          "20-99人",
          "500-999人",
          "500-999人",
          "500-999人",
          "20-99人",
          "20-99人",
          "100-299人",
          "1000-9999人",
          "20-99人",
          "20-99人",
          "100-299人",
          "10000人以上",
          "20-99人",
          "20-99人",
          "10000人以上",
          "100-299人",
          "100-299人",
          "500-999人",
          "100-299人",
          "100-299人",
          "100-299人",
          "300-499人",
          "1000-9999人",
          "1000-9999人",
          "100-299人",
          "20-99人",
          "20-99人",
          "500-999人",
          "20-99人",
          "20-99人",
          "",
          "100-299人",
          "10000人以上",
          "20-99人",
          "20-99人",
          "1000-9999人",
          "1000-9999人",
          "10000人以上",
          "20-99人",
          "100-299人",
          "10000人以上",
          "20-99人",
          "500-999人",
          "20人以下",
          "500-999人",
          "10000人以上",
          "10000人以上",
          "1000-9999人",
          "100-299人",
          "1000-9999人",
          "20-99人",
          "",
          "",
          "100-299人",
          "100-299人",
          "100-299人",
          "10000人以上",
          "100-299人",
          "20-99人",
          "100-299人",
          "20-99人",
          "1000-9999人",
          "20-99人",
          "20-99人",
          "20-99人",
          "500-999人",
          "300-499人",
          "500-999人",
          "500-999人",
          "20-99人",
          "100-299人",
          "300-499人",
          "1000-9999人",
          "10000人以上",
          "1000-9999人",
          "1000-9999人",
          "1000-9999人",
          "1000-9999人",
          "1000-9999人",
          "100-299人",
          "100-299人",
          "100-299人",
          "20-99人",
          "100-299人",
          "100-299人",
          "1000-9999人",
          "20-99人",
          "100-299人",
          "100-299人",
          "10000人以上",
          "500-999人",
          "500-999人",
          "20-99人",
          "500-999人",
          "500-999人",
          "1000-9999人",
          "500-999人",
          "1000-9999人",
          "1000-9999人",
          "20-99人",
          "20-99人",
          "20-99人",
          "20-99人",
          "100-299人",
          "500-999人",
          "100-299人",
          "500-999人",
          "20-99人",
          "20-99人",
          "20-99人",
          "500-999人",
          "500-999人",
          "100-299人",
          "500-999人",
          "500-999人",
          "20-99人",
          "",
          "500-999人",
          "100-299人",
          "500-999人",
          "100-299人",
          "1000-9999人",
          "1000-9999人",
          "1000-9999人",
          "1000-9999人",
          "500-999人",
          "10000人以上",
          "20-99人",
          "20-99人",
          "100-299人",
          "20-99人",
          "20-99人",
          "20-99人",
          "100-299人",
          "1000-9999人",
          "300-499人",
          "500-999人",
          "500-999人",
          "300-499人",
          "300-499人",
          "300-499人",
          "10000人以上",
          "20-99人",
          "10000人以上",
          "500-999人",
          "",
          "20-99人",
          "20人以下",
          "20-99人",
          "20-99人",
          "100-299人",
          "1000-9999人",
          "",
          "20-99人",
          "10000人以上",
          "20人以下",
          "100-299人",
          "100-299人",
          "10000人以上",
          "20-99人",
          "20-99人",
          "20-99人",
          "300-499人",
          "10000人以上",
          "1000-9999人",
          "1000-9999人",
          "300-499人",
          "20-99人",
          "10000人以上",
          "10000人以上",
          "100-299人",
          "10000人以上",
          "20人以下",
          "10000人以上",
          "20-99人",
          "100-299人",
          "1000-9999人",
          "100-299人",
          "1000-9999人",
          "10000人以上",
          "10000人以上",
          "100-299人",
          "1000-9999人",
          "1000-9999人",
          "1000-9999人",
          "10000人以上",
          "10000人以上",
          "20-99人",
          "10000人以上",
          "1000-9999人",
          "100-299人",
          "500-999人",
          "20-99人",
          "1000-9999人",
          "20人以下",
          "1000-9999人",
          "20-99人",
          "",
          "1000-9999人",
          "1000-9999人",
          "10000人以上",
          "1000-9999人",
          "1000-9999人",
          "1000-9999人",
          "1000-9999人",
          "20-99人",
          "100-299人",
          "500-999人",
          "1000-9999人",
          "1000-9999人",
          "1000-9999人",
          "500-999人",
          "20-99人",
          "20-99人",
          "20-99人",
          "20-99人",
          "20-99人",
          "1000-9999人",
          "100-299人",
          "20-99人",
          "1000-9999人",
          "20人以下",
          "20-99人",
          "1000-9999人",
          "20-99人",
          "20-99人",
          "20-99人",
          "20-99人",
          "1000-9999人",
          "20-99人",
          "20-99人",
          "1000-9999人",
          "10000人以上",
          "10000人以上",
          "100-299人",
          "20-99人",
          "20-99人",
          "20-99人",
          "20-99人",
          "20-99人",
          "100-299人",
          "1000-9999人",
          "100-299人",
          "100-299人",
          "1000-9999人",
          "1000-9999人",
          "300-499人",
          "1000-9999人",
          "20-99人",
          "100-299人",
          "1000-9999人",
          "20-99人",
          "20-99人",
          "100-299人",
          "20人以下",
          "20-99人",
          "",
          "500-999人",
          "500-999人",
          "20-99人",
          "20人以下",
          "1000-9999人",
          "100-299人",
          "100-299人",
          "20-99人",
          "500-999人",
          "100-299人",
          "1000-9999人",
          "1000-9999人",
          "1000-9999人",
          "20-99人",
          "1000-9999人",
          "100-299人",
          "100-299人",
          "10000人以上",
          "10000人以上",
          "10000人以上",
          "100-299人",
          "20-99人",
          "10000人以上",
          "10000人以上",
          "10000人以上",
          "1000-9999人",
          "20人以下",
          "1000-9999人",
          "20-99人",
          "100-299人",
          "100-299人",
          "100-299人",
          "20人以下",
          "100-299人",
          "100-299人",
          "100-299人",
          "100-299人",
          "100-299人",
          "20-99人",
          "20-99人",
          "100-299人",
          "20-99人",
          "100-299人",
          "20-99人",
          "100-299人",
          "1000-9999人",
          "20-99人",
          "20-99人",
          "100-299人",
          "20-99人"
         ],
         "xaxis": "x",
         "y": [
          8000,
          25000,
          8000,
          8000,
          15000,
          10000,
          12000,
          null,
          null,
          null,
          15000,
          13000,
          null,
          12000,
          4000,
          null,
          8000,
          8000,
          6000,
          8000,
          7000,
          7000,
          13000,
          30000,
          6000,
          8000,
          8000,
          9000,
          8000,
          8000,
          8000,
          8000,
          8000,
          7000,
          8000,
          6000,
          5000,
          4000,
          8000,
          10000,
          6000,
          16000,
          12000,
          5000,
          7000,
          10000,
          6000,
          8000,
          12000,
          7000,
          6000,
          10000,
          9000,
          8000,
          null,
          6000,
          5000,
          7000,
          15000,
          5000,
          8000,
          14000,
          14000,
          15000,
          13000,
          8000,
          10000,
          15000,
          4000,
          6000,
          4000,
          6000,
          6000,
          null,
          4000,
          10000,
          6000,
          2000,
          10000,
          8000,
          22000,
          15000,
          7000,
          4000,
          4000,
          4000,
          6000,
          15000,
          15000,
          15000,
          5000,
          10000,
          15000,
          6000,
          null,
          4000,
          4000,
          null,
          8000,
          12000,
          4000,
          3000,
          10000,
          4000,
          9000,
          10000,
          10000,
          6000,
          5000,
          7000,
          6000,
          10000,
          4000,
          6000,
          null,
          9000,
          5000,
          7000,
          null,
          null,
          4000,
          6000,
          9000,
          6000,
          5000,
          6000,
          5000,
          5000,
          9000,
          9000,
          8000,
          6000,
          4000,
          9000,
          4000,
          4000,
          15000,
          8000,
          5000,
          4000,
          7000,
          8000,
          6000,
          5000,
          8000,
          7000,
          6000,
          5000,
          5000,
          5000,
          4000,
          5000,
          4000,
          8000,
          6000,
          7000,
          6000,
          4000,
          10000,
          7000,
          3000,
          8000,
          4000,
          8000,
          9000,
          8000,
          8000,
          5000,
          null,
          4000,
          8000,
          5000,
          7000,
          16000,
          3000,
          20000,
          5000,
          7000,
          4000,
          20000,
          null,
          6000,
          8000,
          4000,
          8000,
          8000,
          5000,
          6000,
          15000,
          5000,
          4000,
          6000,
          15000,
          10000,
          5000,
          7000,
          5000,
          10000,
          15000,
          5000,
          10000,
          8000,
          9000,
          6000,
          6000,
          7000,
          5000,
          7000,
          6000,
          7000,
          6000,
          6000,
          6000,
          7000,
          6000,
          7000,
          7000,
          7000,
          6000,
          6000,
          7000,
          5000,
          6000,
          7000,
          6000,
          6000,
          6000,
          6000,
          4000,
          10000,
          5000,
          4000,
          6000,
          4000,
          5000,
          7000,
          5000,
          5000,
          5000,
          7000,
          5000,
          11000,
          9000,
          9000,
          5000,
          6000,
          null,
          6000,
          null,
          10000,
          50000,
          9000,
          9000,
          8000,
          7000,
          20000,
          12000,
          8000,
          6000,
          15000,
          10000,
          null,
          5000,
          9000,
          9000,
          15000,
          12000,
          8000,
          13000,
          6000,
          9000,
          12000,
          20000,
          8000,
          8000,
          9000,
          null,
          6000,
          10000,
          6000,
          5000,
          6000,
          5000,
          12000,
          6000,
          6000,
          6000,
          6000,
          6000,
          null,
          9000,
          6000,
          6000,
          5000,
          5000,
          5000,
          12000,
          9000,
          5000,
          8000,
          null,
          7000,
          6000,
          5000,
          10000,
          20000,
          6000,
          6000,
          8000,
          11000,
          20000,
          5000,
          null,
          5000,
          5000,
          9000,
          9000,
          9000,
          5000,
          9000,
          6000,
          7000,
          9000,
          9000,
          9000,
          9000,
          null,
          9000,
          5000,
          6000,
          6000,
          6000,
          8000,
          8000,
          3000,
          5000,
          12000,
          8000,
          5000,
          5000,
          12000,
          9000,
          9000,
          4000,
          5000,
          6000,
          6000,
          8000,
          8000,
          4000,
          7000,
          9000,
          8000,
          6000,
          8000,
          9000,
          8000,
          null,
          9000,
          6000,
          10000,
          10000,
          3000,
          9000,
          7000,
          7000,
          7000,
          8000,
          7000,
          7000,
          5000,
          8000,
          8000,
          4000,
          null,
          8000,
          7000,
          10000,
          null,
          30000,
          8000,
          7000,
          6000,
          7000,
          7000,
          6000,
          9000,
          6000,
          10000,
          6000,
          8000,
          6000,
          10000,
          4000,
          3000,
          4000,
          3000,
          4000,
          6000,
          8000,
          3000,
          5000,
          8000,
          null,
          4000,
          4000,
          5000,
          4000,
          6000,
          8000
         ],
         "yaxis": "y"
        }
       ],
       "layout": {
        "legend": {
         "tracegroupgap": 0
        },
        "margin": {
         "t": 60
        },
        "template": {
         "data": {
          "bar": [
           {
            "error_x": {
             "color": "#2a3f5f"
            },
            "error_y": {
             "color": "#2a3f5f"
            },
            "marker": {
             "line": {
              "color": "#E5ECF6",
              "width": 0.5
             },
             "pattern": {
              "fillmode": "overlay",
              "size": 10,
              "solidity": 0.2
             }
            },
            "type": "bar"
           }
          ],
          "barpolar": [
           {
            "marker": {
             "line": {
              "color": "#E5ECF6",
              "width": 0.5
             },
             "pattern": {
              "fillmode": "overlay",
              "size": 10,
              "solidity": 0.2
             }
            },
            "type": "barpolar"
           }
          ],
          "carpet": [
           {
            "aaxis": {
             "endlinecolor": "#2a3f5f",
             "gridcolor": "white",
             "linecolor": "white",
             "minorgridcolor": "white",
             "startlinecolor": "#2a3f5f"
            },
            "baxis": {
             "endlinecolor": "#2a3f5f",
             "gridcolor": "white",
             "linecolor": "white",
             "minorgridcolor": "white",
             "startlinecolor": "#2a3f5f"
            },
            "type": "carpet"
           }
          ],
          "choropleth": [
           {
            "colorbar": {
             "outlinewidth": 0,
             "ticks": ""
            },
            "type": "choropleth"
           }
          ],
          "contour": [
           {
            "colorbar": {
             "outlinewidth": 0,
             "ticks": ""
            },
            "colorscale": [
             [
              0,
              "#0d0887"
             ],
             [
              0.1111111111111111,
              "#46039f"
             ],
             [
              0.2222222222222222,
              "#7201a8"
             ],
             [
              0.3333333333333333,
              "#9c179e"
             ],
             [
              0.4444444444444444,
              "#bd3786"
             ],
             [
              0.5555555555555556,
              "#d8576b"
             ],
             [
              0.6666666666666666,
              "#ed7953"
             ],
             [
              0.7777777777777778,
              "#fb9f3a"
             ],
             [
              0.8888888888888888,
              "#fdca26"
             ],
             [
              1,
              "#f0f921"
             ]
            ],
            "type": "contour"
           }
          ],
          "contourcarpet": [
           {
            "colorbar": {
             "outlinewidth": 0,
             "ticks": ""
            },
            "type": "contourcarpet"
           }
          ],
          "heatmap": [
           {
            "colorbar": {
             "outlinewidth": 0,
             "ticks": ""
            },
            "colorscale": [
             [
              0,
              "#0d0887"
             ],
             [
              0.1111111111111111,
              "#46039f"
             ],
             [
              0.2222222222222222,
              "#7201a8"
             ],
             [
              0.3333333333333333,
              "#9c179e"
             ],
             [
              0.4444444444444444,
              "#bd3786"
             ],
             [
              0.5555555555555556,
              "#d8576b"
             ],
             [
              0.6666666666666666,
              "#ed7953"
             ],
             [
              0.7777777777777778,
              "#fb9f3a"
             ],
             [
              0.8888888888888888,
              "#fdca26"
             ],
             [
              1,
              "#f0f921"
             ]
            ],
            "type": "heatmap"
           }
          ],
          "heatmapgl": [
           {
            "colorbar": {
             "outlinewidth": 0,
             "ticks": ""
            },
            "colorscale": [
             [
              0,
              "#0d0887"
             ],
             [
              0.1111111111111111,
              "#46039f"
             ],
             [
              0.2222222222222222,
              "#7201a8"
             ],
             [
              0.3333333333333333,
              "#9c179e"
             ],
             [
              0.4444444444444444,
              "#bd3786"
             ],
             [
              0.5555555555555556,
              "#d8576b"
             ],
             [
              0.6666666666666666,
              "#ed7953"
             ],
             [
              0.7777777777777778,
              "#fb9f3a"
             ],
             [
              0.8888888888888888,
              "#fdca26"
             ],
             [
              1,
              "#f0f921"
             ]
            ],
            "type": "heatmapgl"
           }
          ],
          "histogram": [
           {
            "marker": {
             "pattern": {
              "fillmode": "overlay",
              "size": 10,
              "solidity": 0.2
             }
            },
            "type": "histogram"
           }
          ],
          "histogram2d": [
           {
            "colorbar": {
             "outlinewidth": 0,
             "ticks": ""
            },
            "colorscale": [
             [
              0,
              "#0d0887"
             ],
             [
              0.1111111111111111,
              "#46039f"
             ],
             [
              0.2222222222222222,
              "#7201a8"
             ],
             [
              0.3333333333333333,
              "#9c179e"
             ],
             [
              0.4444444444444444,
              "#bd3786"
             ],
             [
              0.5555555555555556,
              "#d8576b"
             ],
             [
              0.6666666666666666,
              "#ed7953"
             ],
             [
              0.7777777777777778,
              "#fb9f3a"
             ],
             [
              0.8888888888888888,
              "#fdca26"
             ],
             [
              1,
              "#f0f921"
             ]
            ],
            "type": "histogram2d"
           }
          ],
          "histogram2dcontour": [
           {
            "colorbar": {
             "outlinewidth": 0,
             "ticks": ""
            },
            "colorscale": [
             [
              0,
              "#0d0887"
             ],
             [
              0.1111111111111111,
              "#46039f"
             ],
             [
              0.2222222222222222,
              "#7201a8"
             ],
             [
              0.3333333333333333,
              "#9c179e"
             ],
             [
              0.4444444444444444,
              "#bd3786"
             ],
             [
              0.5555555555555556,
              "#d8576b"
             ],
             [
              0.6666666666666666,
              "#ed7953"
             ],
             [
              0.7777777777777778,
              "#fb9f3a"
             ],
             [
              0.8888888888888888,
              "#fdca26"
             ],
             [
              1,
              "#f0f921"
             ]
            ],
            "type": "histogram2dcontour"
           }
          ],
          "mesh3d": [
           {
            "colorbar": {
             "outlinewidth": 0,
             "ticks": ""
            },
            "type": "mesh3d"
           }
          ],
          "parcoords": [
           {
            "line": {
             "colorbar": {
              "outlinewidth": 0,
              "ticks": ""
             }
            },
            "type": "parcoords"
           }
          ],
          "pie": [
           {
            "automargin": true,
            "type": "pie"
           }
          ],
          "scatter": [
           {
            "fillpattern": {
             "fillmode": "overlay",
             "size": 10,
             "solidity": 0.2
            },
            "type": "scatter"
           }
          ],
          "scatter3d": [
           {
            "line": {
             "colorbar": {
              "outlinewidth": 0,
              "ticks": ""
             }
            },
            "marker": {
             "colorbar": {
              "outlinewidth": 0,
              "ticks": ""
             }
            },
            "type": "scatter3d"
           }
          ],
          "scattercarpet": [
           {
            "marker": {
             "colorbar": {
              "outlinewidth": 0,
              "ticks": ""
             }
            },
            "type": "scattercarpet"
           }
          ],
          "scattergeo": [
           {
            "marker": {
             "colorbar": {
              "outlinewidth": 0,
              "ticks": ""
             }
            },
            "type": "scattergeo"
           }
          ],
          "scattergl": [
           {
            "marker": {
             "colorbar": {
              "outlinewidth": 0,
              "ticks": ""
             }
            },
            "type": "scattergl"
           }
          ],
          "scattermapbox": [
           {
            "marker": {
             "colorbar": {
              "outlinewidth": 0,
              "ticks": ""
             }
            },
            "type": "scattermapbox"
           }
          ],
          "scatterpolar": [
           {
            "marker": {
             "colorbar": {
              "outlinewidth": 0,
              "ticks": ""
             }
            },
            "type": "scatterpolar"
           }
          ],
          "scatterpolargl": [
           {
            "marker": {
             "colorbar": {
              "outlinewidth": 0,
              "ticks": ""
             }
            },
            "type": "scatterpolargl"
           }
          ],
          "scatterternary": [
           {
            "marker": {
             "colorbar": {
              "outlinewidth": 0,
              "ticks": ""
             }
            },
            "type": "scatterternary"
           }
          ],
          "surface": [
           {
            "colorbar": {
             "outlinewidth": 0,
             "ticks": ""
            },
            "colorscale": [
             [
              0,
              "#0d0887"
             ],
             [
              0.1111111111111111,
              "#46039f"
             ],
             [
              0.2222222222222222,
              "#7201a8"
             ],
             [
              0.3333333333333333,
              "#9c179e"
             ],
             [
              0.4444444444444444,
              "#bd3786"
             ],
             [
              0.5555555555555556,
              "#d8576b"
             ],
             [
              0.6666666666666666,
              "#ed7953"
             ],
             [
              0.7777777777777778,
              "#fb9f3a"
             ],
             [
              0.8888888888888888,
              "#fdca26"
             ],
             [
              1,
              "#f0f921"
             ]
            ],
            "type": "surface"
           }
          ],
          "table": [
           {
            "cells": {
             "fill": {
              "color": "#EBF0F8"
             },
             "line": {
              "color": "white"
             }
            },
            "header": {
             "fill": {
              "color": "#C8D4E3"
             },
             "line": {
              "color": "white"
             }
            },
            "type": "table"
           }
          ]
         },
         "layout": {
          "annotationdefaults": {
           "arrowcolor": "#2a3f5f",
           "arrowhead": 0,
           "arrowwidth": 1
          },
          "autotypenumbers": "strict",
          "coloraxis": {
           "colorbar": {
            "outlinewidth": 0,
            "ticks": ""
           }
          },
          "colorscale": {
           "diverging": [
            [
             0,
             "#8e0152"
            ],
            [
             0.1,
             "#c51b7d"
            ],
            [
             0.2,
             "#de77ae"
            ],
            [
             0.3,
             "#f1b6da"
            ],
            [
             0.4,
             "#fde0ef"
            ],
            [
             0.5,
             "#f7f7f7"
            ],
            [
             0.6,
             "#e6f5d0"
            ],
            [
             0.7,
             "#b8e186"
            ],
            [
             0.8,
             "#7fbc41"
            ],
            [
             0.9,
             "#4d9221"
            ],
            [
             1,
             "#276419"
            ]
           ],
           "sequential": [
            [
             0,
             "#0d0887"
            ],
            [
             0.1111111111111111,
             "#46039f"
            ],
            [
             0.2222222222222222,
             "#7201a8"
            ],
            [
             0.3333333333333333,
             "#9c179e"
            ],
            [
             0.4444444444444444,
             "#bd3786"
            ],
            [
             0.5555555555555556,
             "#d8576b"
            ],
            [
             0.6666666666666666,
             "#ed7953"
            ],
            [
             0.7777777777777778,
             "#fb9f3a"
            ],
            [
             0.8888888888888888,
             "#fdca26"
            ],
            [
             1,
             "#f0f921"
            ]
           ],
           "sequentialminus": [
            [
             0,
             "#0d0887"
            ],
            [
             0.1111111111111111,
             "#46039f"
            ],
            [
             0.2222222222222222,
             "#7201a8"
            ],
            [
             0.3333333333333333,
             "#9c179e"
            ],
            [
             0.4444444444444444,
             "#bd3786"
            ],
            [
             0.5555555555555556,
             "#d8576b"
            ],
            [
             0.6666666666666666,
             "#ed7953"
            ],
            [
             0.7777777777777778,
             "#fb9f3a"
            ],
            [
             0.8888888888888888,
             "#fdca26"
            ],
            [
             1,
             "#f0f921"
            ]
           ]
          },
          "colorway": [
           "#636efa",
           "#EF553B",
           "#00cc96",
           "#ab63fa",
           "#FFA15A",
           "#19d3f3",
           "#FF6692",
           "#B6E880",
           "#FF97FF",
           "#FECB52"
          ],
          "font": {
           "color": "#2a3f5f"
          },
          "geo": {
           "bgcolor": "white",
           "lakecolor": "white",
           "landcolor": "#E5ECF6",
           "showlakes": true,
           "showland": true,
           "subunitcolor": "white"
          },
          "hoverlabel": {
           "align": "left"
          },
          "hovermode": "closest",
          "mapbox": {
           "style": "light"
          },
          "paper_bgcolor": "white",
          "plot_bgcolor": "#E5ECF6",
          "polar": {
           "angularaxis": {
            "gridcolor": "white",
            "linecolor": "white",
            "ticks": ""
           },
           "bgcolor": "#E5ECF6",
           "radialaxis": {
            "gridcolor": "white",
            "linecolor": "white",
            "ticks": ""
           }
          },
          "scene": {
           "xaxis": {
            "backgroundcolor": "#E5ECF6",
            "gridcolor": "white",
            "gridwidth": 2,
            "linecolor": "white",
            "showbackground": true,
            "ticks": "",
            "zerolinecolor": "white"
           },
           "yaxis": {
            "backgroundcolor": "#E5ECF6",
            "gridcolor": "white",
            "gridwidth": 2,
            "linecolor": "white",
            "showbackground": true,
            "ticks": "",
            "zerolinecolor": "white"
           },
           "zaxis": {
            "backgroundcolor": "#E5ECF6",
            "gridcolor": "white",
            "gridwidth": 2,
            "linecolor": "white",
            "showbackground": true,
            "ticks": "",
            "zerolinecolor": "white"
           }
          },
          "shapedefaults": {
           "line": {
            "color": "#2a3f5f"
           }
          },
          "ternary": {
           "aaxis": {
            "gridcolor": "white",
            "linecolor": "white",
            "ticks": ""
           },
           "baxis": {
            "gridcolor": "white",
            "linecolor": "white",
            "ticks": ""
           },
           "bgcolor": "#E5ECF6",
           "caxis": {
            "gridcolor": "white",
            "linecolor": "white",
            "ticks": ""
           }
          },
          "title": {
           "x": 0.05
          },
          "xaxis": {
           "automargin": true,
           "gridcolor": "white",
           "linecolor": "white",
           "ticks": "",
           "title": {
            "standoff": 15
           },
           "zerolinecolor": "white",
           "zerolinewidth": 2
          },
          "yaxis": {
           "automargin": true,
           "gridcolor": "white",
           "linecolor": "white",
           "ticks": "",
           "title": {
            "standoff": 15
           },
           "zerolinecolor": "white",
           "zerolinewidth": 2
          }
         }
        },
        "xaxis": {
         "anchor": "y",
         "categoryarray": [
          "20人以下",
          "20-99人",
          "100-299人",
          "300-499人",
          "500-999人",
          "1000-9999人",
          "10000人以上"
         ],
         "categoryorder": "array",
         "domain": [
          0,
          1
         ],
         "title": {
          "text": "companySize"
         }
        },
        "yaxis": {
         "anchor": "x",
         "domain": [
          0,
          1
         ],
         "title": {
          "text": "sal"
         }
        }
       }
      }
     },
     "metadata": {},
     "output_type": "display_data"
    }
   ],
   "source": [
    "fig = ep.scatter(data, x='companySize', y='sal')\n",
    "fig.update_xaxes(\n",
    "    categoryorder='array', \n",
    "    categoryarray=['20人以下', '20-99人', '100-299人', '300-499人', '500-999人', '1000-9999人',  '10000人以上', ]\n",
    ")"
   ]
  },
  {
   "cell_type": "code",
   "execution_count": 35,
   "metadata": {},
   "outputs": [
    {
     "data": {
      "text/plain": [
       "array(['20-99人', '1000-9999人', '100-299人', '10000人以上', '300-499人',\n",
       "       '500-999人', '20人以下', ''], dtype=object)"
      ]
     },
     "execution_count": 35,
     "metadata": {},
     "output_type": "execute_result"
    }
   ],
   "source": [
    "data['companySize'].unique()"
   ]
  }
 ],
 "metadata": {
  "kernelspec": {
   "display_name": "Python 3.8.10 64-bit",
   "language": "python",
   "name": "python3"
  },
  "language_info": {
   "codemirror_mode": {
    "name": "ipython",
    "version": 3
   },
   "file_extension": ".py",
   "mimetype": "text/x-python",
   "name": "python",
   "nbconvert_exporter": "python",
   "pygments_lexer": "ipython3",
   "version": "3.8.10"
  },
  "orig_nbformat": 4,
  "vscode": {
   "interpreter": {
    "hash": "31573ba6e11986e7c812c968f61f0b8efcb5d5e0dd57985568dde44111bcc5d3"
   }
  }
 },
 "nbformat": 4,
 "nbformat_minor": 2
}
